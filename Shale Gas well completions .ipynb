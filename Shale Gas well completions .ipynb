{
 "cells": [
  {
   "cell_type": "code",
   "execution_count": 2,
   "metadata": {},
   "outputs": [
    {
     "data": {
      "text/html": [
       "        <script type=\"text/javascript\">\n",
       "        window.PlotlyConfig = {MathJaxConfig: 'local'};\n",
       "        if (window.MathJax) {MathJax.Hub.Config({SVG: {font: \"STIX-Web\"}});}\n",
       "        if (typeof require !== 'undefined') {\n",
       "        require.undef(\"plotly\");\n",
       "        requirejs.config({\n",
       "            paths: {\n",
       "                'plotly': ['https://cdn.plot.ly/plotly-2.4.2.min']\n",
       "            }\n",
       "        });\n",
       "        require(['plotly'], function(Plotly) {\n",
       "            window._Plotly = Plotly;\n",
       "        });\n",
       "        }\n",
       "        </script>\n",
       "        "
      ]
     },
     "metadata": {},
     "output_type": "display_data"
    },
    {
     "data": {
      "text/html": [
       "        <script type=\"text/javascript\">\n",
       "        window.PlotlyConfig = {MathJaxConfig: 'local'};\n",
       "        if (window.MathJax) {MathJax.Hub.Config({SVG: {font: \"STIX-Web\"}});}\n",
       "        if (typeof require !== 'undefined') {\n",
       "        require.undef(\"plotly\");\n",
       "        requirejs.config({\n",
       "            paths: {\n",
       "                'plotly': ['https://cdn.plot.ly/plotly-2.4.2.min']\n",
       "            }\n",
       "        });\n",
       "        require(['plotly'], function(Plotly) {\n",
       "            window._Plotly = Plotly;\n",
       "        });\n",
       "        }\n",
       "        </script>\n",
       "        "
      ]
     },
     "metadata": {},
     "output_type": "display_data"
    }
   ],
   "source": [
    "import numpy as np\n",
    "import pandas as pd\n",
    "import matplotlib.pyplot as plt\n",
    "import seaborn as sns\n",
    "%matplotlib inline\n",
    "import plotly.graph_objs as go\n",
    "import plotly.offline as pyo\n",
    "\n",
    "from plotly.offline import download_plotlyjs, init_notebook_mode, plot, iplot\n",
    "import cufflinks as cf\n",
    "# For Notebooks\n",
    "init_notebook_mode(connected=True)\n",
    "# For offline use\n",
    "cf.go_offline()"
   ]
  },
  {
   "cell_type": "code",
   "execution_count": 3,
   "metadata": {},
   "outputs": [
    {
     "data": {
      "text/html": [
       "<div>\n",
       "<style scoped>\n",
       "    .dataframe tbody tr th:only-of-type {\n",
       "        vertical-align: middle;\n",
       "    }\n",
       "\n",
       "    .dataframe tbody tr th {\n",
       "        vertical-align: top;\n",
       "    }\n",
       "\n",
       "    .dataframe thead th {\n",
       "        text-align: right;\n",
       "    }\n",
       "</style>\n",
       "<table border=\"1\" class=\"dataframe\">\n",
       "  <thead>\n",
       "    <tr style=\"text-align: right;\">\n",
       "      <th></th>\n",
       "      <th>Stage Spacing</th>\n",
       "      <th>bbl/ft</th>\n",
       "      <th>Well Spacing</th>\n",
       "      <th>Dip</th>\n",
       "      <th>Thickness</th>\n",
       "      <th>Lateral Length</th>\n",
       "      <th>Injection Rate</th>\n",
       "      <th>Porosity</th>\n",
       "      <th>ISIP</th>\n",
       "      <th>Water Saturation</th>\n",
       "      <th>Percentage of LG</th>\n",
       "      <th>Pressure Gradient</th>\n",
       "      <th>Proppant Loading</th>\n",
       "      <th>EUR</th>\n",
       "      <th>Category</th>\n",
       "    </tr>\n",
       "  </thead>\n",
       "  <tbody>\n",
       "    <tr>\n",
       "      <th>0</th>\n",
       "      <td>140</td>\n",
       "      <td>38</td>\n",
       "      <td>850</td>\n",
       "      <td>0</td>\n",
       "      <td>165</td>\n",
       "      <td>8543</td>\n",
       "      <td>64</td>\n",
       "      <td>8.3</td>\n",
       "      <td>8200</td>\n",
       "      <td>17.1</td>\n",
       "      <td>38.0</td>\n",
       "      <td>0.95</td>\n",
       "      <td>3012</td>\n",
       "      <td>13.3</td>\n",
       "      <td>New_Design</td>\n",
       "    </tr>\n",
       "    <tr>\n",
       "      <th>1</th>\n",
       "      <td>140</td>\n",
       "      <td>30</td>\n",
       "      <td>900</td>\n",
       "      <td>0</td>\n",
       "      <td>174</td>\n",
       "      <td>8336</td>\n",
       "      <td>60</td>\n",
       "      <td>7.8</td>\n",
       "      <td>8061</td>\n",
       "      <td>16.0</td>\n",
       "      <td>59.3</td>\n",
       "      <td>0.95</td>\n",
       "      <td>2771</td>\n",
       "      <td>12.5</td>\n",
       "      <td>New_Design</td>\n",
       "    </tr>\n",
       "    <tr>\n",
       "      <th>2</th>\n",
       "      <td>140</td>\n",
       "      <td>30</td>\n",
       "      <td>900</td>\n",
       "      <td>0</td>\n",
       "      <td>174</td>\n",
       "      <td>9361</td>\n",
       "      <td>65</td>\n",
       "      <td>7.8</td>\n",
       "      <td>8061</td>\n",
       "      <td>16.0</td>\n",
       "      <td>59.3</td>\n",
       "      <td>0.95</td>\n",
       "      <td>3067</td>\n",
       "      <td>16.9</td>\n",
       "      <td>New_Design</td>\n",
       "    </tr>\n",
       "    <tr>\n",
       "      <th>3</th>\n",
       "      <td>140</td>\n",
       "      <td>30</td>\n",
       "      <td>950</td>\n",
       "      <td>0</td>\n",
       "      <td>175</td>\n",
       "      <td>9110</td>\n",
       "      <td>69</td>\n",
       "      <td>8.3</td>\n",
       "      <td>7922</td>\n",
       "      <td>15.7</td>\n",
       "      <td>66.9</td>\n",
       "      <td>0.95</td>\n",
       "      <td>3130</td>\n",
       "      <td>16.5</td>\n",
       "      <td>New_Design</td>\n",
       "    </tr>\n",
       "    <tr>\n",
       "      <th>4</th>\n",
       "      <td>140</td>\n",
       "      <td>30</td>\n",
       "      <td>950</td>\n",
       "      <td>0</td>\n",
       "      <td>175</td>\n",
       "      <td>9310</td>\n",
       "      <td>67</td>\n",
       "      <td>8.3</td>\n",
       "      <td>7922</td>\n",
       "      <td>15.7</td>\n",
       "      <td>66.9</td>\n",
       "      <td>0.95</td>\n",
       "      <td>2991</td>\n",
       "      <td>17.4</td>\n",
       "      <td>New_Design</td>\n",
       "    </tr>\n",
       "    <tr>\n",
       "      <th>...</th>\n",
       "      <td>...</td>\n",
       "      <td>...</td>\n",
       "      <td>...</td>\n",
       "      <td>...</td>\n",
       "      <td>...</td>\n",
       "      <td>...</td>\n",
       "      <td>...</td>\n",
       "      <td>...</td>\n",
       "      <td>...</td>\n",
       "      <td>...</td>\n",
       "      <td>...</td>\n",
       "      <td>...</td>\n",
       "      <td>...</td>\n",
       "      <td>...</td>\n",
       "      <td>...</td>\n",
       "    </tr>\n",
       "    <tr>\n",
       "      <th>501</th>\n",
       "      <td>140</td>\n",
       "      <td>30</td>\n",
       "      <td>750</td>\n",
       "      <td>0</td>\n",
       "      <td>160</td>\n",
       "      <td>8567</td>\n",
       "      <td>63</td>\n",
       "      <td>7.2</td>\n",
       "      <td>8200</td>\n",
       "      <td>16.6</td>\n",
       "      <td>86.5</td>\n",
       "      <td>0.95</td>\n",
       "      <td>2740</td>\n",
       "      <td>12.8</td>\n",
       "      <td>New_Design</td>\n",
       "    </tr>\n",
       "    <tr>\n",
       "      <th>502</th>\n",
       "      <td>140</td>\n",
       "      <td>30</td>\n",
       "      <td>700</td>\n",
       "      <td>0</td>\n",
       "      <td>160</td>\n",
       "      <td>7932</td>\n",
       "      <td>61</td>\n",
       "      <td>7.2</td>\n",
       "      <td>8200</td>\n",
       "      <td>16.6</td>\n",
       "      <td>86.5</td>\n",
       "      <td>0.95</td>\n",
       "      <td>2774</td>\n",
       "      <td>12.2</td>\n",
       "      <td>Vintage</td>\n",
       "    </tr>\n",
       "    <tr>\n",
       "      <th>503</th>\n",
       "      <td>140</td>\n",
       "      <td>30</td>\n",
       "      <td>700</td>\n",
       "      <td>0</td>\n",
       "      <td>160</td>\n",
       "      <td>9080</td>\n",
       "      <td>57</td>\n",
       "      <td>7.2</td>\n",
       "      <td>8200</td>\n",
       "      <td>16.6</td>\n",
       "      <td>86.5</td>\n",
       "      <td>0.95</td>\n",
       "      <td>2973</td>\n",
       "      <td>13.3</td>\n",
       "      <td>New_Design</td>\n",
       "    </tr>\n",
       "    <tr>\n",
       "      <th>504</th>\n",
       "      <td>140</td>\n",
       "      <td>30</td>\n",
       "      <td>750</td>\n",
       "      <td>0</td>\n",
       "      <td>160</td>\n",
       "      <td>8836</td>\n",
       "      <td>58</td>\n",
       "      <td>7.2</td>\n",
       "      <td>8200</td>\n",
       "      <td>16.6</td>\n",
       "      <td>86.5</td>\n",
       "      <td>0.95</td>\n",
       "      <td>2925</td>\n",
       "      <td>12.7</td>\n",
       "      <td>New_Design</td>\n",
       "    </tr>\n",
       "    <tr>\n",
       "      <th>505</th>\n",
       "      <td>140</td>\n",
       "      <td>30</td>\n",
       "      <td>750</td>\n",
       "      <td>0</td>\n",
       "      <td>160</td>\n",
       "      <td>7812</td>\n",
       "      <td>60</td>\n",
       "      <td>7.2</td>\n",
       "      <td>8200</td>\n",
       "      <td>16.6</td>\n",
       "      <td>86.5</td>\n",
       "      <td>0.95</td>\n",
       "      <td>2844</td>\n",
       "      <td>9.3</td>\n",
       "      <td>Vintage</td>\n",
       "    </tr>\n",
       "  </tbody>\n",
       "</table>\n",
       "<p>506 rows × 15 columns</p>\n",
       "</div>"
      ],
      "text/plain": [
       "     Stage Spacing  bbl/ft  Well Spacing  Dip  Thickness  Lateral Length  \\\n",
       "0              140      38           850    0        165            8543   \n",
       "1              140      30           900    0        174            8336   \n",
       "2              140      30           900    0        174            9361   \n",
       "3              140      30           950    0        175            9110   \n",
       "4              140      30           950    0        175            9310   \n",
       "..             ...     ...           ...  ...        ...             ...   \n",
       "501            140      30           750    0        160            8567   \n",
       "502            140      30           700    0        160            7932   \n",
       "503            140      30           700    0        160            9080   \n",
       "504            140      30           750    0        160            8836   \n",
       "505            140      30           750    0        160            7812   \n",
       "\n",
       "     Injection Rate  Porosity  ISIP  Water Saturation  Percentage of LG  \\\n",
       "0                64       8.3  8200              17.1              38.0   \n",
       "1                60       7.8  8061              16.0              59.3   \n",
       "2                65       7.8  8061              16.0              59.3   \n",
       "3                69       8.3  7922              15.7              66.9   \n",
       "4                67       8.3  7922              15.7              66.9   \n",
       "..              ...       ...   ...               ...               ...   \n",
       "501              63       7.2  8200              16.6              86.5   \n",
       "502              61       7.2  8200              16.6              86.5   \n",
       "503              57       7.2  8200              16.6              86.5   \n",
       "504              58       7.2  8200              16.6              86.5   \n",
       "505              60       7.2  8200              16.6              86.5   \n",
       "\n",
       "     Pressure Gradient  Proppant Loading   EUR    Category  \n",
       "0                 0.95              3012  13.3  New_Design  \n",
       "1                 0.95              2771  12.5  New_Design  \n",
       "2                 0.95              3067  16.9  New_Design  \n",
       "3                 0.95              3130  16.5  New_Design  \n",
       "4                 0.95              2991  17.4  New_Design  \n",
       "..                 ...               ...   ...         ...  \n",
       "501               0.95              2740  12.8  New_Design  \n",
       "502               0.95              2774  12.2     Vintage  \n",
       "503               0.95              2973  13.3  New_Design  \n",
       "504               0.95              2925  12.7  New_Design  \n",
       "505               0.95              2844   9.3     Vintage  \n",
       "\n",
       "[506 rows x 15 columns]"
      ]
     },
     "execution_count": 3,
     "metadata": {},
     "output_type": "execute_result"
    }
   ],
   "source": [
    "df = pd.read_csv('Shale_Gas_Wells_DataSet Version 2.csv')\n",
    "df"
   ]
  },
  {
   "cell_type": "code",
   "execution_count": 4,
   "metadata": {},
   "outputs": [
    {
     "data": {
      "image/png": "[encoded data removed]",
      "text/plain": [
       "<Figure size 1440x720 with 2 Axes>"
      ]
     },
     "metadata": {
      "needs_background": "light"
     },
     "output_type": "display_data"
    }
   ],
   "source": [
    "fig, (ax1,ax2) = plt.subplots(1,2,figsize=(20,10))\n",
    "sns.distplot(df['Lateral Length'], kde=False,ax=ax1)\n",
    "ax1.set_ylabel('Frequency',fontsize=20)\n",
    "sns.distplot(df['Proppant Loading'],kde=True,ax=ax2,bins=5)\n",
    "ax2.set_ylabel('Frequency',fontsize=20)\n",
    "ax2.set_xlabel(fontsize=20, xlabel = ax2.get_xlabel())\n",
    "ax1.set_xlabel(fontsize=20, xlabel = ax1.get_xlabel())\n",
    "ax1.tick_params(labelsize=12)\n",
    "ax2.tick_params(labelsize=12)"
   ]
  },
  {
   "cell_type": "code",
   "execution_count": 5,
   "metadata": {},
   "outputs": [
    {
     "data": {
      "application/vnd.plotly.v1+json": {
       "config": {
        "plotlyServerURL": "https://plot.ly"
       },
       "data": [
        {
         "marker": {
          "color": [
           3012,
           2771,
           3067,
           3130,
           2991,
           2998,
           2580,
           2191,
           1566,
           2309,
           2115,
           2531,
           2390,
           2822,
           2706,
           2809,
           2919,
           2450,
           2623,
           2647,
           2082,
           2499,
           2215,
           2148,
           2356,
           2344,
           2442,
           2299,
           2559,
           2606,
           1991,
           2545,
           1695,
           2237,
           2122,
           2739,
           2639,
           2792,
           2713,
           3050,
           3186,
           3020,
           2964,
           2869,
           2747,
           2709,
           2480,
           2211,
           1515,
           2362,
           2521,
           2754,
           2994,
           2812,
           2443,
           3022,
           2966,
           3071,
           2903,
           2766,
           2538,
           2463,
           2910,
           2750,
           2834,
           3030,
           2707,
           2831,
           2542,
           2791,
           2911,
           2728,
           2980,
           2863,
           2907,
           2782,
           2607,
           2705,
           2585,
           2773,
           2994,
           2882,
           2911,
           2865,
           2743,
           2922,
           2555,
           2811,
           2982,
           2970,
           2790,
           2825,
           2827,
           2940,
           2687,
           2915,
           2643,
           3056,
           3093,
           2942,
           2754,
           2856,
           2684,
           2521,
           2586,
           2346,
           2219,
           2484,
           2589,
           2399,
           2547,
           2712,
           2361,
           2310,
           2695,
           2387,
           2603,
           2703,
           2410,
           2512,
           2468,
           2473,
           2261,
           1828,
           2282,
           2442,
           1721,
           2304,
           2408,
           2238,
           2570,
           2590,
           2656,
           2429,
           2297,
           2317,
           2321,
           2455,
           2065,
           2231,
           1900,
           1306,
           1746,
           1769,
           1603,
           1689,
           2335,
           1589,
           1659,
           2057,
           2483,
           2531,
           2598,
           2385,
           2424,
           2430,
           2365,
           3034,
           2928,
           2872,
           2982,
           3200,
           3189,
           3108,
           2626,
           2732,
           3086,
           2597,
           2657,
           2644,
           2464,
           2603,
           2449,
           2776,
           2742,
           2991,
           2714,
           2936,
           2899,
           3008,
           2862,
           2753,
           3021,
           2971,
           2490,
           2538,
           3042,
           2913,
           3036,
           2988,
           3005,
           3028,
           3134,
           3009,
           3046,
           3128,
           3064,
           2801,
           2917,
           3036,
           3042,
           2870,
           3120,
           3079,
           3133,
           2670,
           2665,
           2254,
           2451,
           1962,
           2300,
           1911,
           2371,
           2757,
           1588,
           2751,
           2517,
           2739,
           2262,
           2692,
           2738,
           2057,
           2725,
           2860,
           3060,
           3032,
           3119,
           2932,
           3073,
           3082,
           2625,
           2996,
           3157,
           3071,
           2834,
           2670,
           2747,
           3026,
           2932,
           2873,
           2641,
           2582,
           2650,
           3000,
           2576,
           2231,
           2769,
           2712,
           2749,
           2920,
           2958,
           3092,
           3096,
           3095,
           2920,
           2764,
           3120,
           3004,
           2849,
           2900,
           2745,
           2880,
           2958,
           2648,
           2831,
           2695,
           2443,
           2869,
           3117,
           2509,
           2547,
           2918,
           2852,
           2919,
           3096,
           3128,
           2950,
           3059,
           2884,
           3019,
           3082,
           3034,
           3126,
           3117,
           2845,
           2823,
           2551,
           2887,
           2860,
           2749,
           3107,
           3094,
           3028,
           2803,
           2698,
           2937,
           2872,
           2382,
           3012,
           3026,
           2949,
           2750,
           2798,
           3019,
           2899,
           2783,
           2925,
           2864,
           3037,
           2723,
           2568,
           2954,
           2621,
           2842,
           2763,
           2634,
           2238,
           2377,
           2700,
           2563,
           2883,
           2902,
           2854,
           2620,
           2946,
           3006,
           2944,
           2559,
           2723,
           2875,
           2774,
           2580,
           2847,
           2971,
           2909,
           2836,
           2732,
           2688,
           2807,
           2736,
           2762,
           2982,
           2799,
           2884,
           3033,
           2690,
           2566,
           2932,
           2953,
           2959,
           2954,
           2982,
           2849,
           3039,
           2834,
           2977,
           2280,
           2531,
           2635,
           2566,
           2849,
           2478,
           2710,
           2452,
           2994,
           2888,
           2489,
           2528,
           3111,
           3084,
           3129,
           2748,
           2786,
           1285,
           1100,
           2521,
           1954,
           2069,
           1927,
           2038,
           2303,
           2079,
           1933,
           1877,
           1525,
           1515,
           1662,
           1447,
           1526,
           2092,
           2309,
           2213,
           1812,
           2421,
           2353,
           2308,
           2178,
           2146,
           1528,
           1564,
           1749,
           2123,
           2123,
           2155,
           1714,
           1969,
           1948,
           2597,
           1770,
           2154,
           2714,
           2071,
           1309,
           2137,
           1157,
           1617,
           1806,
           1757,
           2105,
           1983,
           2430,
           2390,
           2483,
           1951,
           2306,
           1887,
           2391,
           2459,
           2053,
           1905,
           2278,
           2159,
           2603,
           2360,
           2421,
           1952,
           2254,
           1768,
           1329,
           1974,
           2019,
           2169,
           2339,
           2208,
           1922,
           1911,
           2269,
           2348,
           2250,
           2181,
           2290,
           2273,
           2300,
           2330,
           2216,
           2250,
           2199,
           2319,
           2360,
           2448,
           2349,
           2451,
           2490,
           2704,
           2534,
           2481,
           2306,
           2065,
           2250,
           2445,
           2356,
           2554,
           2468,
           2625,
           2249,
           1904,
           2218,
           1857,
           2255,
           2541,
           2678,
           2852,
           2894,
           2696,
           2527,
           2687,
           2432,
           2637,
           2254,
           1911,
           1580,
           2253,
           2527,
           2604,
           2513,
           2280,
           2075,
           2483,
           2552,
           2425,
           2470,
           2740,
           2774,
           2973,
           2925,
           2844
          ],
          "showscale": true,
          "size": [
           13.3,
           12.5,
           16.9,
           16.5,
           17.4,
           14.9,
           13,
           14.4,
           10.8,
           11.6,
           10.3,
           11.6,
           12.6,
           12.1,
           11.4,
           12,
           13,
           11.2,
           12.1,
           11.4,
           9.9,
           11.9,
           10.4,
           10.2,
           10.5,
           10,
           10.9,
           10.3,
           11.5,
           12.3,
           9.6,
           10.2,
           9.7,
           9.7,
           9.8,
           11.6,
           12,
           12.3,
           13.6,
           15.6,
           17,
           14.2,
           13.8,
           13.6,
           12.4,
           11.8,
           12,
           10.9,
           10.1,
           11.8,
           11.9,
           12.2,
           13.7,
           13.1,
           11.6,
           17.1,
           13.6,
           15.9,
           13.1,
           11.9,
           11.6,
           10.7,
           12.7,
           13.7,
           16.3,
           13.2,
           11.8,
           12.7,
           11.1,
           12.3,
           13.4,
           12.6,
           12.9,
           13.1,
           13.4,
           12.5,
           12,
           12.3,
           12.4,
           12.1,
           14.7,
           13.3,
           13.6,
           13,
           13.3,
           14.2,
           12.8,
           12.7,
           13.2,
           14.9,
           12.9,
           12.7,
           13,
           13.7,
           12.2,
           14.8,
           12.5,
           18.2,
           19.9,
           16.4,
           14.5,
           14.2,
           11.5,
           11.8,
           12,
           11.8,
           11.8,
           12.1,
           11.9,
           11.8,
           12.6,
           12.9,
           11.6,
           11.6,
           11.5,
           11.4,
           12.4,
           11.7,
           12.1,
           11.8,
           12.7,
           12.1,
           12.2,
           11.1,
           11.6,
           12.5,
           10.6,
           10.7,
           11.3,
           10.1,
           11.7,
           11.9,
           13,
           11.5,
           10.5,
           11.4,
           11.1,
           11,
           9.8,
           11.3,
           10,
           10.1,
           9.8,
           10.5,
           9.3,
           9.9,
           10.5,
           10.2,
           11.3,
           10.5,
           12.5,
           11.9,
           10.4,
           11.8,
           11,
           10.5,
           9.7,
           19.1,
           13.4,
           13.1,
           14.3,
           22,
           22,
           22,
           12.9,
           13.7,
           22,
           13.3,
           13.3,
           12.8,
           11.1,
           11.7,
           13,
           13.2,
           12.9,
           15.1,
           13.1,
           13.5,
           15.3,
           17.7,
           18.6,
           17.4,
           18,
           16.2,
           14.1,
           15.2,
           22,
           16,
           15.3,
           17,
           17.7,
           15.5,
           17.5,
           15.7,
           15,
           22,
           16.4,
           15.4,
           16.9,
           17,
           16.3,
           13.4,
           19.4,
           21.5,
           22,
           12.9,
           13.5,
           12.8,
           13.5,
           12,
           12.6,
           11.8,
           12.8,
           14.7,
           13.2,
           13.7,
           13.1,
           14.9,
           12.5,
           13,
           14.2,
           12.6,
           14.5,
           15.4,
           20.3,
           22,
           17.9,
           15.9,
           20.9,
           15.8,
           13.4,
           15.9,
           19.2,
           21.4,
           15,
           13.3,
           13.7,
           15.8,
           13.2,
           13.1,
           12.7,
           12,
           12.7,
           13.2,
           11.2,
           11.5,
           13.4,
           12.2,
           13.5,
           14.1,
           13.5,
           13.6,
           15.2,
           19.6,
           12.6,
           12.3,
           20,
           22,
           17.3,
           15.4,
           16.6,
           19.7,
           21.6,
           15.7,
           17.5,
           12.9,
           15.6,
           22,
           19.8,
           12.2,
           12.4,
           13.7,
           13.5,
           17.1,
           16.1,
           16,
           16.4,
           16.4,
           15,
           17,
           20.5,
           17.1,
           20.7,
           22,
           16.1,
           12.7,
           12,
           13.1,
           12.8,
           13.6,
           14.8,
           17.8,
           14.6,
           13.3,
           12.6,
           14.9,
           14.4,
           12.1,
           12.8,
           15,
           13.6,
           12.7,
           14.1,
           16.4,
           17.4,
           14.8,
           16.5,
           14.7,
           12.9,
           12.1,
           10.7,
           12.7,
           11.8,
           12.5,
           13.3,
           10.7,
           11.3,
           11.9,
           13,
           12.3,
           13.3,
           13,
           12.1,
           11.5,
           13.7,
           13.5,
           13,
           12.7,
           11.8,
           12.9,
           11.9,
           11,
           11.8,
           12.7,
           12.2,
           12.4,
           11.8,
           11.5,
           12.2,
           11.7,
           11.6,
           16.2,
           10.8,
           13.3,
           15.7,
           11.2,
           11.1,
           13,
           13.5,
           14.2,
           13,
           13.4,
           11.5,
           15.4,
           11.4,
           12.2,
           11.3,
           12.6,
           12.9,
           12.9,
           13.7,
           12,
           12.3,
           10.9,
           12.6,
           14.5,
           12.6,
           13,
           22,
           22,
           22,
           22,
           22,
           9.9,
           9.9,
           10.3,
           10,
           9.8,
           9.7,
           8.7,
           8.8,
           9,
           9.1,
           9.4,
           8.3,
           7.7,
           8.8,
           7.8,
           8.7,
           9.2,
           10.4,
           13.1,
           8.6,
           9.9,
           9.6,
           9.7,
           9.5,
           8.2,
           7,
           7.4,
           7.2,
           7.7,
           9.4,
           8.1,
           8.2,
           7,
           9.3,
           14.6,
           11.1,
           14.5,
           10.3,
           11.1,
           11.3,
           10.8,
           7.7,
           7.7,
           7.8,
           8.8,
           8.3,
           8.1,
           10.9,
           10.1,
           12.3,
           9.8,
           9.2,
           8.1,
           8.7,
           9,
           9,
           8.5,
           10.2,
           10,
           10.7,
           10.1,
           9.2,
           9.8,
           8.5,
           8.2,
           8.1,
           9.6,
           8.8,
           11,
           11.5,
           10.5,
           8.9,
           9.3,
           10.3,
           9.5,
           10,
           9.7,
           9.8,
           10.4,
           10.7,
           11.3,
           10.3,
           10,
           9.6,
           9.8,
           10.3,
           12,
           10.8,
           11.2,
           11.8,
           12.1,
           12.5,
           12,
           11.7,
           11.7,
           11.7,
           12,
           12,
           11.9,
           13.1,
           15.3,
           9.9,
           9.8,
           10.9,
           9.3,
           10.2,
           12.5,
           13,
           13.2,
           13.7,
           12.6,
           12.2,
           12.4,
           11.7,
           12.2,
           10.4,
           7.7,
           8,
           9.9,
           12,
           12.6,
           13.5,
           13,
           11.9,
           11.4,
           12.4,
           11.2,
           10.9,
           12.8,
           12.2,
           13.3,
           12.7,
           9.3
          ]
         },
         "mode": "markers",
         "type": "scatter",
         "x": [
          140,
          140,
          140,
          140,
          140,
          140,
          140,
          140,
          140,
          140,
          140,
          140,
          140,
          141,
          141,
          141,
          142,
          142,
          142,
          142,
          143,
          142,
          143,
          142,
          142,
          142,
          141,
          142,
          142,
          142,
          142,
          143,
          143,
          142,
          143,
          140,
          140,
          140,
          140,
          140,
          140,
          140,
          140,
          140,
          140,
          140,
          140,
          140,
          141,
          140,
          140,
          140,
          140,
          140,
          140,
          140,
          140,
          140,
          140,
          140,
          140,
          140,
          140,
          140,
          140,
          140,
          140,
          140,
          140,
          140,
          140,
          140,
          140,
          140,
          140,
          140,
          140,
          140,
          140,
          140,
          140,
          140,
          140,
          140,
          140,
          140,
          140,
          140,
          140,
          140,
          140,
          140,
          140,
          140,
          140,
          140,
          140,
          140,
          140,
          140,
          140,
          140,
          140,
          140,
          140,
          140,
          140,
          140,
          140,
          141,
          140,
          140,
          140,
          140,
          140,
          140,
          140,
          140,
          140,
          140,
          140,
          140,
          140,
          140,
          140,
          140,
          141,
          141,
          141,
          142,
          141,
          143,
          141,
          141,
          142,
          141,
          141,
          141,
          141,
          141,
          141,
          143,
          147,
          149,
          146,
          145,
          145,
          145,
          145,
          146,
          144,
          143,
          142,
          145,
          143,
          148,
          145,
          143,
          143,
          143,
          143,
          143,
          144,
          143,
          145,
          146,
          144,
          144,
          145,
          145,
          143,
          145,
          140,
          140,
          140,
          140,
          140,
          140,
          140,
          140,
          140,
          140,
          140,
          140,
          140,
          140,
          140,
          140,
          140,
          140,
          140,
          140,
          140,
          140,
          140,
          140,
          140,
          140,
          140,
          140,
          140,
          140,
          140,
          140,
          140,
          140,
          140,
          141,
          140,
          141,
          140,
          141,
          140,
          140,
          141,
          140,
          140,
          140,
          140,
          140,
          141,
          141,
          141,
          141,
          141,
          141,
          141,
          141,
          141,
          141,
          141,
          141,
          141,
          141,
          141,
          141,
          141,
          141,
          140,
          140,
          140,
          140,
          140,
          140,
          140,
          140,
          141,
          140,
          140,
          140,
          140,
          140,
          140,
          141,
          140,
          140,
          140,
          141,
          141,
          141,
          141,
          141,
          141,
          142,
          141,
          142,
          142,
          141,
          141,
          140,
          141,
          140,
          140,
          140,
          140,
          140,
          140,
          140,
          140,
          140,
          140,
          140,
          140,
          140,
          140,
          140,
          140,
          140,
          140,
          140,
          140,
          140,
          140,
          140,
          140,
          140,
          140,
          140,
          140,
          140,
          140,
          140,
          140,
          140,
          140,
          140,
          140,
          140,
          141,
          141,
          146,
          142,
          141,
          141,
          141,
          141,
          141,
          141,
          141,
          141,
          140,
          140,
          141,
          141,
          141,
          140,
          141,
          141,
          140,
          140,
          140,
          140,
          140,
          140,
          140,
          140,
          140,
          140,
          140,
          140,
          140,
          140,
          140,
          140,
          140,
          140,
          140,
          140,
          140,
          140,
          140,
          140,
          140,
          140,
          140,
          140,
          159,
          148,
          151,
          149,
          150,
          148,
          148,
          149,
          147,
          150,
          148,
          169,
          150,
          152,
          154,
          160,
          158,
          164,
          179,
          182,
          173,
          161,
          190,
          178,
          330,
          174,
          160,
          157,
          183,
          176,
          192,
          188,
          171,
          157,
          155,
          151,
          165,
          158,
          169,
          159,
          153,
          156,
          222,
          161,
          193,
          170,
          160,
          193,
          229,
          285,
          184,
          166,
          156,
          171,
          249,
          170,
          180,
          201,
          238,
          179,
          163,
          195,
          297,
          165,
          164,
          155,
          166,
          155,
          159,
          174,
          166,
          220,
          156,
          160,
          158,
          161,
          154,
          152,
          170,
          164,
          171,
          172,
          169,
          160,
          187,
          161,
          152,
          161,
          167,
          163,
          153,
          161,
          160,
          156,
          154,
          152,
          151,
          158,
          160,
          150,
          150,
          157,
          157,
          155,
          150,
          148,
          154,
          152,
          157,
          147,
          148,
          149,
          173,
          168,
          149,
          149,
          148,
          150,
          157,
          154,
          150,
          172,
          162,
          171,
          152,
          152,
          152,
          146,
          145,
          148,
          152,
          150,
          140,
          140,
          140,
          140,
          140,
          140,
          141,
          140,
          141,
          141,
          140,
          140,
          140,
          140,
          140,
          140,
          140,
          140
         ],
         "y": [
          8543,
          8336,
          9361,
          9110,
          9310,
          8348,
          7787,
          8002,
          7276,
          7777,
          8277,
          7783,
          7622,
          7703,
          7900,
          7549,
          7684,
          7758,
          7042,
          7405,
          7195,
          7724,
          7962,
          7521,
          7669,
          7233,
          7521,
          7834,
          8435,
          8675,
          7386,
          7868,
          7704,
          7370,
          7900,
          7681,
          7558,
          7570,
          7726,
          8569,
          9145,
          8804,
          7998,
          8054,
          7864,
          7345,
          7484,
          7812,
          6965,
          7237,
          7722,
          7926,
          8457,
          7769,
          7621,
          9447,
          8285,
          8866,
          7966,
          7673,
          7424,
          7726,
          8383,
          8793,
          9252,
          8160,
          7486,
          7608,
          7227,
          7617,
          8331,
          7719,
          7858,
          8100,
          8137,
          8155,
          8146,
          7959,
          8082,
          7602,
          8746,
          8602,
          8176,
          7995,
          8293,
          8616,
          7791,
          7934,
          9122,
          9219,
          8331,
          8315,
          8364,
          8054,
          8105,
          8610,
          7990,
          10546,
          10212,
          9671,
          8746,
          8819,
          8315,
          7955,
          7995,
          7571,
          7551,
          7942,
          8407,
          8078,
          8033,
          8730,
          7655,
          7895,
          8112,
          7675,
          8007,
          7799,
          7600,
          7411,
          7597,
          7777,
          7719,
          7578,
          7609,
          7753,
          7252,
          7360,
          8349,
          7284,
          8386,
          8209,
          8270,
          7533,
          7445,
          8221,
          7694,
          8380,
          7580,
          7974,
          8005,
          6456,
          6971,
          7058,
          6300,
          7946,
          7272,
          6331,
          6680,
          7231,
          7935,
          6972,
          6446,
          7381,
          7944,
          7975,
          6795,
          9036,
          7860,
          8455,
          8107,
          9768,
          10188,
          10957,
          7575,
          7907,
          10359,
          7606,
          8199,
          8311,
          7604,
          7610,
          7197,
          8329,
          7582,
          8504,
          7798,
          8194,
          8925,
          9086,
          10139,
          7964,
          9320,
          8526,
          7240,
          7977,
          10227,
          8820,
          8517,
          9361,
          9047,
          8763,
          9351,
          8844,
          8581,
          10286,
          9498,
          9256,
          9480,
          9079,
          9294,
          7989,
          9931,
          10257,
          10499,
          7625,
          8209,
          7480,
          7857,
          6891,
          7718,
          6972,
          7512,
          8274,
          6983,
          8015,
          7621,
          8632,
          7706,
          8272,
          9047,
          7991,
          8950,
          8600,
          10811,
          11426,
          10507,
          9331,
          10033,
          8512,
          7746,
          9665,
          10906,
          10785,
          8745,
          7887,
          8618,
          9593,
          8416,
          8584,
          8974,
          7899,
          8251,
          8298,
          7225,
          7242,
          7916,
          8074,
          8352,
          8734,
          8425,
          8359,
          9055,
          10801,
          7916,
          7605,
          9721,
          11398,
          9559,
          8901,
          9385,
          9810,
          10988,
          9551,
          9389,
          7181,
          9131,
          10852,
          9743,
          7664,
          7578,
          8093,
          8493,
          10039,
          8788,
          8917,
          9471,
          8879,
          8418,
          8860,
          10212,
          9070,
          9978,
          10351,
          9231,
          8379,
          8080,
          8052,
          8194,
          8529,
          8926,
          9311,
          8616,
          7942,
          7783,
          8681,
          8508,
          7490,
          8234,
          9168,
          8940,
          8563,
          8435,
          9088,
          9429,
          8598,
          9676,
          8910,
          8623,
          7734,
          6394,
          7935,
          7802,
          8128,
          8532,
          7376,
          7656,
          7479,
          8284,
          7923,
          8343,
          8276,
          7826,
          7380,
          8328,
          8349,
          8190,
          7883,
          7594,
          8218,
          7964,
          7377,
          7813,
          8195,
          8187,
          7821,
          7596,
          7630,
          7850,
          7751,
          7728,
          9436,
          8496,
          8705,
          8944,
          7790,
          7635,
          8463,
          8623,
          9031,
          8429,
          8548,
          7616,
          8748,
          7319,
          7685,
          8056,
          8301,
          7942,
          7922,
          8305,
          8108,
          6916,
          7507,
          11500,
          4500,
          6380,
          4905,
          6390,
          8687,
          9134,
          8061,
          7604,
          6304,
          5274,
          9532,
          8642,
          8836,
          8281,
          8070,
          9070,
          8502,
          7149,
          7128,
          5582,
          6802,
          5963,
          6430,
          6269,
          6953,
          7386,
          7840,
          6478,
          8030,
          7620,
          8403,
          8315,
          7432,
          7038,
          7573,
          7754,
          8231,
          8313,
          6898,
          7142,
          7346,
          5274,
          7246,
          7258,
          8914,
          7445,
          8653,
          5931,
          6638,
          5785,
          8353,
          8820,
          6838,
          7714,
          8877,
          8323,
          7779,
          7299,
          7909,
          7188,
          7632,
          7553,
          8042,
          8030,
          8281,
          8238,
          8889,
          8341,
          8356,
          8050,
          8615,
          8390,
          7975,
          7684,
          7271,
          7527,
          8316,
          8065,
          8422,
          7575,
          8387,
          8229,
          8108,
          8019,
          8331,
          8776,
          8650,
          8170,
          9640,
          8748,
          8475,
          7739,
          7685,
          8175,
          7880,
          8712,
          8276,
          8196,
          8459,
          8052,
          7448,
          7707,
          7775,
          7672,
          7386,
          7995,
          8078,
          8357,
          9086,
          7003,
          7989,
          8420,
          6838,
          8019,
          8078,
          8096,
          8777,
          9194,
          7452,
          7598,
          8190,
          7924,
          7644,
          7039,
          6985,
          6555,
          7749,
          7749,
          7378,
          7672,
          7329,
          6953,
          7495,
          7797,
          7193,
          7808,
          8567,
          7932,
          9080,
          8836,
          7812
         ]
        }
       ],
       "layout": {
        "hovermode": "closest",
        "template": {
         "data": {
          "bar": [
           {
            "error_x": {
             "color": "#2a3f5f"
            },
            "error_y": {
             "color": "#2a3f5f"
            },
            "marker": {
             "line": {
              "color": "#E5ECF6",
              "width": 0.5
             },
             "pattern": {
              "fillmode": "overlay",
              "size": 10,
              "solidity": 0.2
             }
            },
            "type": "bar"
           }
          ],
          "barpolar": [
           {
            "marker": {
             "line": {
              "color": "#E5ECF6",
              "width": 0.5
             },
             "pattern": {
              "fillmode": "overlay",
              "size": 10,
              "solidity": 0.2
             }
            },
            "type": "barpolar"
           }
          ],
          "carpet": [
           {
            "aaxis": {
             "endlinecolor": "#2a3f5f",
             "gridcolor": "white",
             "linecolor": "white",
             "minorgridcolor": "white",
             "startlinecolor": "#2a3f5f"
            },
            "baxis": {
             "endlinecolor": "#2a3f5f",
             "gridcolor": "white",
             "linecolor": "white",
             "minorgridcolor": "white",
             "startlinecolor": "#2a3f5f"
            },
            "type": "carpet"
           }
          ],
          "choropleth": [
           {
            "colorbar": {
             "outlinewidth": 0,
             "ticks": ""
            },
            "type": "choropleth"
           }
          ],
          "contour": [
           {
            "colorbar": {
             "outlinewidth": 0,
             "ticks": ""
            },
            "colorscale": [
             [
              0,
              "#0d0887"
             ],
             [
              0.1111111111111111,
              "#46039f"
             ],
             [
              0.2222222222222222,
              "#7201a8"
             ],
             [
              0.3333333333333333,
              "#9c179e"
             ],
             [
              0.4444444444444444,
              "#bd3786"
             ],
             [
              0.5555555555555556,
              "#d8576b"
             ],
             [
              0.6666666666666666,
              "#ed7953"
             ],
             [
              0.7777777777777778,
              "#fb9f3a"
             ],
             [
              0.8888888888888888,
              "#fdca26"
             ],
             [
              1,
              "#f0f921"
             ]
            ],
            "type": "contour"
           }
          ],
          "contourcarpet": [
           {
            "colorbar": {
             "outlinewidth": 0,
             "ticks": ""
            },
            "type": "contourcarpet"
           }
          ],
          "heatmap": [
           {
            "colorbar": {
             "outlinewidth": 0,
             "ticks": ""
            },
            "colorscale": [
             [
              0,
              "#0d0887"
             ],
             [
              0.1111111111111111,
              "#46039f"
             ],
             [
              0.2222222222222222,
              "#7201a8"
             ],
             [
              0.3333333333333333,
              "#9c179e"
             ],
             [
              0.4444444444444444,
              "#bd3786"
             ],
             [
              0.5555555555555556,
              "#d8576b"
             ],
             [
              0.6666666666666666,
              "#ed7953"
             ],
             [
              0.7777777777777778,
              "#fb9f3a"
             ],
             [
              0.8888888888888888,
              "#fdca26"
             ],
             [
              1,
              "#f0f921"
             ]
            ],
            "type": "heatmap"
           }
          ],
          "heatmapgl": [
           {
            "colorbar": {
             "outlinewidth": 0,
             "ticks": ""
            },
            "colorscale": [
             [
              0,
              "#0d0887"
             ],
             [
              0.1111111111111111,
              "#46039f"
             ],
             [
              0.2222222222222222,
              "#7201a8"
             ],
             [
              0.3333333333333333,
              "#9c179e"
             ],
             [
              0.4444444444444444,
              "#bd3786"
             ],
             [
              0.5555555555555556,
              "#d8576b"
             ],
             [
              0.6666666666666666,
              "#ed7953"
             ],
             [
              0.7777777777777778,
              "#fb9f3a"
             ],
             [
              0.8888888888888888,
              "#fdca26"
             ],
             [
              1,
              "#f0f921"
             ]
            ],
            "type": "heatmapgl"
           }
          ],
          "histogram": [
           {
            "marker": {
             "pattern": {
              "fillmode": "overlay",
              "size": 10,
              "solidity": 0.2
             }
            },
            "type": "histogram"
           }
          ],
          "histogram2d": [
           {
            "colorbar": {
             "outlinewidth": 0,
             "ticks": ""
            },
            "colorscale": [
             [
              0,
              "#0d0887"
             ],
             [
              0.1111111111111111,
              "#46039f"
             ],
             [
              0.2222222222222222,
              "#7201a8"
             ],
             [
              0.3333333333333333,
              "#9c179e"
             ],
             [
              0.4444444444444444,
              "#bd3786"
             ],
             [
              0.5555555555555556,
              "#d8576b"
             ],
             [
              0.6666666666666666,
              "#ed7953"
             ],
             [
              0.7777777777777778,
              "#fb9f3a"
             ],
             [
              0.8888888888888888,
              "#fdca26"
             ],
             [
              1,
              "#f0f921"
             ]
            ],
            "type": "histogram2d"
           }
          ],
          "histogram2dcontour": [
           {
            "colorbar": {
             "outlinewidth": 0,
             "ticks": ""
            },
            "colorscale": [
             [
              0,
              "#0d0887"
             ],
             [
              0.1111111111111111,
              "#46039f"
             ],
             [
              0.2222222222222222,
              "#7201a8"
             ],
             [
              0.3333333333333333,
              "#9c179e"
             ],
             [
              0.4444444444444444,
              "#bd3786"
             ],
             [
              0.5555555555555556,
              "#d8576b"
             ],
             [
              0.6666666666666666,
              "#ed7953"
             ],
             [
              0.7777777777777778,
              "#fb9f3a"
             ],
             [
              0.8888888888888888,
              "#fdca26"
             ],
             [
              1,
              "#f0f921"
             ]
            ],
            "type": "histogram2dcontour"
           }
          ],
          "mesh3d": [
           {
            "colorbar": {
             "outlinewidth": 0,
             "ticks": ""
            },
            "type": "mesh3d"
           }
          ],
          "parcoords": [
           {
            "line": {
             "colorbar": {
              "outlinewidth": 0,
              "ticks": ""
             }
            },
            "type": "parcoords"
           }
          ],
          "pie": [
           {
            "automargin": true,
            "type": "pie"
           }
          ],
          "scatter": [
           {
            "marker": {
             "colorbar": {
              "outlinewidth": 0,
              "ticks": ""
             }
            },
            "type": "scatter"
           }
          ],
          "scatter3d": [
           {
            "line": {
             "colorbar": {
              "outlinewidth": 0,
              "ticks": ""
             }
            },
            "marker": {
             "colorbar": {
              "outlinewidth": 0,
              "ticks": ""
             }
            },
            "type": "scatter3d"
           }
          ],
          "scattercarpet": [
           {
            "marker": {
             "colorbar": {
              "outlinewidth": 0,
              "ticks": ""
             }
            },
            "type": "scattercarpet"
           }
          ],
          "scattergeo": [
           {
            "marker": {
             "colorbar": {
              "outlinewidth": 0,
              "ticks": ""
             }
            },
            "type": "scattergeo"
           }
          ],
          "scattergl": [
           {
            "marker": {
             "colorbar": {
              "outlinewidth": 0,
              "ticks": ""
             }
            },
            "type": "scattergl"
           }
          ],
          "scattermapbox": [
           {
            "marker": {
             "colorbar": {
              "outlinewidth": 0,
              "ticks": ""
             }
            },
            "type": "scattermapbox"
           }
          ],
          "scatterpolar": [
           {
            "marker": {
             "colorbar": {
              "outlinewidth": 0,
              "ticks": ""
             }
            },
            "type": "scatterpolar"
           }
          ],
          "scatterpolargl": [
           {
            "marker": {
             "colorbar": {
              "outlinewidth": 0,
              "ticks": ""
             }
            },
            "type": "scatterpolargl"
           }
          ],
          "scatterternary": [
           {
            "marker": {
             "colorbar": {
              "outlinewidth": 0,
              "ticks": ""
             }
            },
            "type": "scatterternary"
           }
          ],
          "surface": [
           {
            "colorbar": {
             "outlinewidth": 0,
             "ticks": ""
            },
            "colorscale": [
             [
              0,
              "#0d0887"
             ],
             [
              0.1111111111111111,
              "#46039f"
             ],
             [
              0.2222222222222222,
              "#7201a8"
             ],
             [
              0.3333333333333333,
              "#9c179e"
             ],
             [
              0.4444444444444444,
              "#bd3786"
             ],
             [
              0.5555555555555556,
              "#d8576b"
             ],
             [
              0.6666666666666666,
              "#ed7953"
             ],
             [
              0.7777777777777778,
              "#fb9f3a"
             ],
             [
              0.8888888888888888,
              "#fdca26"
             ],
             [
              1,
              "#f0f921"
             ]
            ],
            "type": "surface"
           }
          ],
          "table": [
           {
            "cells": {
             "fill": {
              "color": "#EBF0F8"
             },
             "line": {
              "color": "white"
             }
            },
            "header": {
             "fill": {
              "color": "#C8D4E3"
             },
             "line": {
              "color": "white"
             }
            },
            "type": "table"
           }
          ]
         },
         "layout": {
          "annotationdefaults": {
           "arrowcolor": "#2a3f5f",
           "arrowhead": 0,
           "arrowwidth": 1
          },
          "autotypenumbers": "strict",
          "coloraxis": {
           "colorbar": {
            "outlinewidth": 0,
            "ticks": ""
           }
          },
          "colorscale": {
           "diverging": [
            [
             0,
             "#8e0152"
            ],
            [
             0.1,
             "#c51b7d"
            ],
            [
             0.2,
             "#de77ae"
            ],
            [
             0.3,
             "#f1b6da"
            ],
            [
             0.4,
             "#fde0ef"
            ],
            [
             0.5,
             "#f7f7f7"
            ],
            [
             0.6,
             "#e6f5d0"
            ],
            [
             0.7,
             "#b8e186"
            ],
            [
             0.8,
             "#7fbc41"
            ],
            [
             0.9,
             "#4d9221"
            ],
            [
             1,
             "#276419"
            ]
           ],
           "sequential": [
            [
             0,
             "#0d0887"
            ],
            [
             0.1111111111111111,
             "#46039f"
            ],
            [
             0.2222222222222222,
             "#7201a8"
            ],
            [
             0.3333333333333333,
             "#9c179e"
            ],
            [
             0.4444444444444444,
             "#bd3786"
            ],
            [
             0.5555555555555556,
             "#d8576b"
            ],
            [
             0.6666666666666666,
             "#ed7953"
            ],
            [
             0.7777777777777778,
             "#fb9f3a"
            ],
            [
             0.8888888888888888,
             "#fdca26"
            ],
            [
             1,
             "#f0f921"
            ]
           ],
           "sequentialminus": [
            [
             0,
             "#0d0887"
            ],
            [
             0.1111111111111111,
             "#46039f"
            ],
            [
             0.2222222222222222,
             "#7201a8"
            ],
            [
             0.3333333333333333,
             "#9c179e"
            ],
            [
             0.4444444444444444,
             "#bd3786"
            ],
            [
             0.5555555555555556,
             "#d8576b"
            ],
            [
             0.6666666666666666,
             "#ed7953"
            ],
            [
             0.7777777777777778,
             "#fb9f3a"
            ],
            [
             0.8888888888888888,
             "#fdca26"
            ],
            [
             1,
             "#f0f921"
            ]
           ]
          },
          "colorway": [
           "#636efa",
           "#EF553B",
           "#00cc96",
           "#ab63fa",
           "#FFA15A",
           "#19d3f3",
           "#FF6692",
           "#B6E880",
           "#FF97FF",
           "#FECB52"
          ],
          "font": {
           "color": "#2a3f5f"
          },
          "geo": {
           "bgcolor": "white",
           "lakecolor": "white",
           "landcolor": "#E5ECF6",
           "showlakes": true,
           "showland": true,
           "subunitcolor": "white"
          },
          "hoverlabel": {
           "align": "left"
          },
          "hovermode": "closest",
          "mapbox": {
           "style": "light"
          },
          "paper_bgcolor": "white",
          "plot_bgcolor": "#E5ECF6",
          "polar": {
           "angularaxis": {
            "gridcolor": "white",
            "linecolor": "white",
            "ticks": ""
           },
           "bgcolor": "#E5ECF6",
           "radialaxis": {
            "gridcolor": "white",
            "linecolor": "white",
            "ticks": ""
           }
          },
          "scene": {
           "xaxis": {
            "backgroundcolor": "#E5ECF6",
            "gridcolor": "white",
            "gridwidth": 2,
            "linecolor": "white",
            "showbackground": true,
            "ticks": "",
            "zerolinecolor": "white"
           },
           "yaxis": {
            "backgroundcolor": "#E5ECF6",
            "gridcolor": "white",
            "gridwidth": 2,
            "linecolor": "white",
            "showbackground": true,
            "ticks": "",
            "zerolinecolor": "white"
           },
           "zaxis": {
            "backgroundcolor": "#E5ECF6",
            "gridcolor": "white",
            "gridwidth": 2,
            "linecolor": "white",
            "showbackground": true,
            "ticks": "",
            "zerolinecolor": "white"
           }
          },
          "shapedefaults": {
           "line": {
            "color": "#2a3f5f"
           }
          },
          "ternary": {
           "aaxis": {
            "gridcolor": "white",
            "linecolor": "white",
            "ticks": ""
           },
           "baxis": {
            "gridcolor": "white",
            "linecolor": "white",
            "ticks": ""
           },
           "bgcolor": "#E5ECF6",
           "caxis": {
            "gridcolor": "white",
            "linecolor": "white",
            "ticks": ""
           }
          },
          "title": {
           "x": 0.05
          },
          "xaxis": {
           "automargin": true,
           "gridcolor": "white",
           "linecolor": "white",
           "ticks": "",
           "title": {
            "standoff": 15
           },
           "zerolinecolor": "white",
           "zerolinewidth": 2
          },
          "yaxis": {
           "automargin": true,
           "gridcolor": "white",
           "linecolor": "white",
           "ticks": "",
           "title": {
            "standoff": 15
           },
           "zerolinecolor": "white",
           "zerolinewidth": 2
          }
         }
        },
        "title": {
         "text": "Stage Spacing Vs. Lateral Length, Sized by EUR, and Colored by Proppant Loading"
        },
        "xaxis": {
         "title": {
          "text": "Stage spacing"
         }
        },
        "yaxis": {
         "title": {
          "text": "Lateral Length"
         }
        }
       }
      },
      "text/html": [
       "<div>                            <div id=\"da554ea7-8d91-43c1-8d7c-5ceb6cdea6db\" class=\"plotly-graph-div\" style=\"height:525px; width:100%;\"></div>            <script type=\"text/javascript\">                require([\"plotly\"], function(Plotly) {                    window.PLOTLYENV=window.PLOTLYENV || {};                                    if (document.getElementById(\"da554ea7-8d91-43c1-8d7c-5ceb6cdea6db\")) {                    Plotly.newPlot(                        \"da554ea7-8d91-43c1-8d7c-5ceb6cdea6db\",                        [{\"marker\":{\"color\":[3012,2771,3067,3130,2991,2998,2580,2191,1566,2309,2115,2531,2390,2822,2706,2809,2919,2450,2623,2647,2082,2499,2215,2148,2356,2344,2442,2299,2559,2606,1991,2545,1695,2237,2122,2739,2639,2792,2713,3050,3186,3020,2964,2869,2747,2709,2480,2211,1515,2362,2521,2754,2994,2812,2443,3022,2966,3071,2903,2766,2538,2463,2910,2750,2834,3030,2707,2831,2542,2791,2911,2728,2980,2863,2907,2782,2607,2705,2585,2773,2994,2882,2911,2865,2743,2922,2555,2811,2982,2970,2790,2825,2827,2940,2687,2915,2643,3056,3093,2942,2754,2856,2684,2521,2586,2346,2219,2484,2589,2399,2547,2712,2361,2310,2695,2387,2603,2703,2410,2512,2468,2473,2261,1828,2282,2442,1721,2304,2408,2238,2570,2590,2656,2429,2297,2317,2321,2455,2065,2231,1900,1306,1746,1769,1603,1689,2335,1589,1659,2057,2483,2531,2598,2385,2424,2430,2365,3034,2928,2872,2982,3200,3189,3108,2626,2732,3086,2597,2657,2644,2464,2603,2449,2776,2742,2991,2714,2936,2899,3008,2862,2753,3021,2971,2490,2538,3042,2913,3036,2988,3005,3028,3134,3009,3046,3128,3064,2801,2917,3036,3042,2870,3120,3079,3133,2670,2665,2254,2451,1962,2300,1911,2371,2757,1588,2751,2517,2739,2262,2692,2738,2057,2725,2860,3060,3032,3119,2932,3073,3082,2625,2996,3157,3071,2834,2670,2747,3026,2932,2873,2641,2582,2650,3000,2576,2231,2769,2712,2749,2920,2958,3092,3096,3095,2920,2764,3120,3004,2849,2900,2745,2880,2958,2648,2831,2695,2443,2869,3117,2509,2547,2918,2852,2919,3096,3128,2950,3059,2884,3019,3082,3034,3126,3117,2845,2823,2551,2887,2860,2749,3107,3094,3028,2803,2698,2937,2872,2382,3012,3026,2949,2750,2798,3019,2899,2783,2925,2864,3037,2723,2568,2954,2621,2842,2763,2634,2238,2377,2700,2563,2883,2902,2854,2620,2946,3006,2944,2559,2723,2875,2774,2580,2847,2971,2909,2836,2732,2688,2807,2736,2762,2982,2799,2884,3033,2690,2566,2932,2953,2959,2954,2982,2849,3039,2834,2977,2280,2531,2635,2566,2849,2478,2710,2452,2994,2888,2489,2528,3111,3084,3129,2748,2786,1285,1100,2521,1954,2069,1927,2038,2303,2079,1933,1877,1525,1515,1662,1447,1526,2092,2309,2213,1812,2421,2353,2308,2178,2146,1528,1564,1749,2123,2123,2155,1714,1969,1948,2597,1770,2154,2714,2071,1309,2137,1157,1617,1806,1757,2105,1983,2430,2390,2483,1951,2306,1887,2391,2459,2053,1905,2278,2159,2603,2360,2421,1952,2254,1768,1329,1974,2019,2169,2339,2208,1922,1911,2269,2348,2250,2181,2290,2273,2300,2330,2216,2250,2199,2319,2360,2448,2349,2451,2490,2704,2534,2481,2306,2065,2250,2445,2356,2554,2468,2625,2249,1904,2218,1857,2255,2541,2678,2852,2894,2696,2527,2687,2432,2637,2254,1911,1580,2253,2527,2604,2513,2280,2075,2483,2552,2425,2470,2740,2774,2973,2925,2844],\"showscale\":true,\"size\":[13.3,12.5,16.9,16.5,17.4,14.9,13.0,14.4,10.8,11.6,10.3,11.6,12.6,12.1,11.4,12.0,13.0,11.2,12.1,11.4,9.9,11.9,10.4,10.2,10.5,10.0,10.9,10.3,11.5,12.3,9.6,10.2,9.7,9.7,9.8,11.6,12.0,12.3,13.6,15.6,17.0,14.2,13.8,13.6,12.4,11.8,12.0,10.9,10.1,11.8,11.9,12.2,13.7,13.1,11.6,17.1,13.6,15.9,13.1,11.9,11.6,10.7,12.7,13.7,16.3,13.2,11.8,12.7,11.1,12.3,13.4,12.6,12.9,13.1,13.4,12.5,12.0,12.3,12.4,12.1,14.7,13.3,13.6,13.0,13.3,14.2,12.8,12.7,13.2,14.9,12.9,12.7,13.0,13.7,12.2,14.8,12.5,18.2,19.9,16.4,14.5,14.2,11.5,11.8,12.0,11.8,11.8,12.1,11.9,11.8,12.6,12.9,11.6,11.6,11.5,11.4,12.4,11.7,12.1,11.8,12.7,12.1,12.2,11.1,11.6,12.5,10.6,10.7,11.3,10.1,11.7,11.9,13.0,11.5,10.5,11.4,11.1,11.0,9.8,11.3,10.0,10.1,9.8,10.5,9.3,9.9,10.5,10.2,11.3,10.5,12.5,11.9,10.4,11.8,11.0,10.5,9.7,19.1,13.4,13.1,14.3,22.0,22.0,22.0,12.9,13.7,22.0,13.3,13.3,12.8,11.1,11.7,13.0,13.2,12.9,15.1,13.1,13.5,15.3,17.7,18.6,17.4,18.0,16.2,14.1,15.2,22.0,16.0,15.3,17.0,17.7,15.5,17.5,15.7,15.0,22.0,16.4,15.4,16.9,17.0,16.3,13.4,19.4,21.5,22.0,12.9,13.5,12.8,13.5,12.0,12.6,11.8,12.8,14.7,13.2,13.7,13.1,14.9,12.5,13.0,14.2,12.6,14.5,15.4,20.3,22.0,17.9,15.9,20.9,15.8,13.4,15.9,19.2,21.4,15.0,13.3,13.7,15.8,13.2,13.1,12.7,12.0,12.7,13.2,11.2,11.5,13.4,12.2,13.5,14.1,13.5,13.6,15.2,19.6,12.6,12.3,20.0,22.0,17.3,15.4,16.6,19.7,21.6,15.7,17.5,12.9,15.6,22.0,19.8,12.2,12.4,13.7,13.5,17.1,16.1,16.0,16.4,16.4,15.0,17.0,20.5,17.1,20.7,22.0,16.1,12.7,12.0,13.1,12.8,13.6,14.8,17.8,14.6,13.3,12.6,14.9,14.4,12.1,12.8,15.0,13.6,12.7,14.1,16.4,17.4,14.8,16.5,14.7,12.9,12.1,10.7,12.7,11.8,12.5,13.3,10.7,11.3,11.9,13.0,12.3,13.3,13.0,12.1,11.5,13.7,13.5,13.0,12.7,11.8,12.9,11.9,11.0,11.8,12.7,12.2,12.4,11.8,11.5,12.2,11.7,11.6,16.2,10.8,13.3,15.7,11.2,11.1,13.0,13.5,14.2,13.0,13.4,11.5,15.4,11.4,12.2,11.3,12.6,12.9,12.9,13.7,12.0,12.3,10.9,12.6,14.5,12.6,13.0,22.0,22.0,22.0,22.0,22.0,9.9,9.9,10.3,10.0,9.8,9.7,8.7,8.8,9.0,9.1,9.4,8.3,7.7,8.8,7.8,8.7,9.2,10.4,13.1,8.6,9.9,9.6,9.7,9.5,8.2,7.0,7.4,7.2,7.7,9.4,8.1,8.2,7.0,9.3,14.6,11.1,14.5,10.3,11.1,11.3,10.8,7.7,7.7,7.8,8.8,8.3,8.1,10.9,10.1,12.3,9.8,9.2,8.1,8.7,9.0,9.0,8.5,10.2,10.0,10.7,10.1,9.2,9.8,8.5,8.2,8.1,9.6,8.8,11.0,11.5,10.5,8.9,9.3,10.3,9.5,10.0,9.7,9.8,10.4,10.7,11.3,10.3,10.0,9.6,9.8,10.3,12.0,10.8,11.2,11.8,12.1,12.5,12.0,11.7,11.7,11.7,12.0,12.0,11.9,13.1,15.3,9.9,9.8,10.9,9.3,10.2,12.5,13.0,13.2,13.7,12.6,12.2,12.4,11.7,12.2,10.4,7.7,8.0,9.9,12.0,12.6,13.5,13.0,11.9,11.4,12.4,11.2,10.9,12.8,12.2,13.3,12.7,9.3]},\"mode\":\"markers\",\"type\":\"scatter\",\"x\":[140,140,140,140,140,140,140,140,140,140,140,140,140,141,141,141,142,142,142,142,143,142,143,142,142,142,141,142,142,142,142,143,143,142,143,140,140,140,140,140,140,140,140,140,140,140,140,140,141,140,140,140,140,140,140,140,140,140,140,140,140,140,140,140,140,140,140,140,140,140,140,140,140,140,140,140,140,140,140,140,140,140,140,140,140,140,140,140,140,140,140,140,140,140,140,140,140,140,140,140,140,140,140,140,140,140,140,140,140,141,140,140,140,140,140,140,140,140,140,140,140,140,140,140,140,140,141,141,141,142,141,143,141,141,142,141,141,141,141,141,141,143,147,149,146,145,145,145,145,146,144,143,142,145,143,148,145,143,143,143,143,143,144,143,145,146,144,144,145,145,143,145,140,140,140,140,140,140,140,140,140,140,140,140,140,140,140,140,140,140,140,140,140,140,140,140,140,140,140,140,140,140,140,140,140,140,140,141,140,141,140,141,140,140,141,140,140,140,140,140,141,141,141,141,141,141,141,141,141,141,141,141,141,141,141,141,141,141,140,140,140,140,140,140,140,140,141,140,140,140,140,140,140,141,140,140,140,141,141,141,141,141,141,142,141,142,142,141,141,140,141,140,140,140,140,140,140,140,140,140,140,140,140,140,140,140,140,140,140,140,140,140,140,140,140,140,140,140,140,140,140,140,140,140,140,140,140,140,141,141,146,142,141,141,141,141,141,141,141,141,140,140,141,141,141,140,141,141,140,140,140,140,140,140,140,140,140,140,140,140,140,140,140,140,140,140,140,140,140,140,140,140,140,140,140,140,159,148,151,149,150,148,148,149,147,150,148,169,150,152,154,160,158,164,179,182,173,161,190,178,330,174,160,157,183,176,192,188,171,157,155,151,165,158,169,159,153,156,222,161,193,170,160,193,229,285,184,166,156,171,249,170,180,201,238,179,163,195,297,165,164,155,166,155,159,174,166,220,156,160,158,161,154,152,170,164,171,172,169,160,187,161,152,161,167,163,153,161,160,156,154,152,151,158,160,150,150,157,157,155,150,148,154,152,157,147,148,149,173,168,149,149,148,150,157,154,150,172,162,171,152,152,152,146,145,148,152,150,140,140,140,140,140,140,141,140,141,141,140,140,140,140,140,140,140,140],\"y\":[8543,8336,9361,9110,9310,8348,7787,8002,7276,7777,8277,7783,7622,7703,7900,7549,7684,7758,7042,7405,7195,7724,7962,7521,7669,7233,7521,7834,8435,8675,7386,7868,7704,7370,7900,7681,7558,7570,7726,8569,9145,8804,7998,8054,7864,7345,7484,7812,6965,7237,7722,7926,8457,7769,7621,9447,8285,8866,7966,7673,7424,7726,8383,8793,9252,8160,7486,7608,7227,7617,8331,7719,7858,8100,8137,8155,8146,7959,8082,7602,8746,8602,8176,7995,8293,8616,7791,7934,9122,9219,8331,8315,8364,8054,8105,8610,7990,10546,10212,9671,8746,8819,8315,7955,7995,7571,7551,7942,8407,8078,8033,8730,7655,7895,8112,7675,8007,7799,7600,7411,7597,7777,7719,7578,7609,7753,7252,7360,8349,7284,8386,8209,8270,7533,7445,8221,7694,8380,7580,7974,8005,6456,6971,7058,6300,7946,7272,6331,6680,7231,7935,6972,6446,7381,7944,7975,6795,9036,7860,8455,8107,9768,10188,10957,7575,7907,10359,7606,8199,8311,7604,7610,7197,8329,7582,8504,7798,8194,8925,9086,10139,7964,9320,8526,7240,7977,10227,8820,8517,9361,9047,8763,9351,8844,8581,10286,9498,9256,9480,9079,9294,7989,9931,10257,10499,7625,8209,7480,7857,6891,7718,6972,7512,8274,6983,8015,7621,8632,7706,8272,9047,7991,8950,8600,10811,11426,10507,9331,10033,8512,7746,9665,10906,10785,8745,7887,8618,9593,8416,8584,8974,7899,8251,8298,7225,7242,7916,8074,8352,8734,8425,8359,9055,10801,7916,7605,9721,11398,9559,8901,9385,9810,10988,9551,9389,7181,9131,10852,9743,7664,7578,8093,8493,10039,8788,8917,9471,8879,8418,8860,10212,9070,9978,10351,9231,8379,8080,8052,8194,8529,8926,9311,8616,7942,7783,8681,8508,7490,8234,9168,8940,8563,8435,9088,9429,8598,9676,8910,8623,7734,6394,7935,7802,8128,8532,7376,7656,7479,8284,7923,8343,8276,7826,7380,8328,8349,8190,7883,7594,8218,7964,7377,7813,8195,8187,7821,7596,7630,7850,7751,7728,9436,8496,8705,8944,7790,7635,8463,8623,9031,8429,8548,7616,8748,7319,7685,8056,8301,7942,7922,8305,8108,6916,7507,11500,4500,6380,4905,6390,8687,9134,8061,7604,6304,5274,9532,8642,8836,8281,8070,9070,8502,7149,7128,5582,6802,5963,6430,6269,6953,7386,7840,6478,8030,7620,8403,8315,7432,7038,7573,7754,8231,8313,6898,7142,7346,5274,7246,7258,8914,7445,8653,5931,6638,5785,8353,8820,6838,7714,8877,8323,7779,7299,7909,7188,7632,7553,8042,8030,8281,8238,8889,8341,8356,8050,8615,8390,7975,7684,7271,7527,8316,8065,8422,7575,8387,8229,8108,8019,8331,8776,8650,8170,9640,8748,8475,7739,7685,8175,7880,8712,8276,8196,8459,8052,7448,7707,7775,7672,7386,7995,8078,8357,9086,7003,7989,8420,6838,8019,8078,8096,8777,9194,7452,7598,8190,7924,7644,7039,6985,6555,7749,7749,7378,7672,7329,6953,7495,7797,7193,7808,8567,7932,9080,8836,7812]}],                        {\"hovermode\":\"closest\",\"template\":{\"data\":{\"bar\":[{\"error_x\":{\"color\":\"#2a3f5f\"},\"error_y\":{\"color\":\"#2a3f5f\"},\"marker\":{\"line\":{\"color\":\"#E5ECF6\",\"width\":0.5},\"pattern\":{\"fillmode\":\"overlay\",\"size\":10,\"solidity\":0.2}},\"type\":\"bar\"}],\"barpolar\":[{\"marker\":{\"line\":{\"color\":\"#E5ECF6\",\"width\":0.5},\"pattern\":{\"fillmode\":\"overlay\",\"size\":10,\"solidity\":0.2}},\"type\":\"barpolar\"}],\"carpet\":[{\"aaxis\":{\"endlinecolor\":\"#2a3f5f\",\"gridcolor\":\"white\",\"linecolor\":\"white\",\"minorgridcolor\":\"white\",\"startlinecolor\":\"#2a3f5f\"},\"baxis\":{\"endlinecolor\":\"#2a3f5f\",\"gridcolor\":\"white\",\"linecolor\":\"white\",\"minorgridcolor\":\"white\",\"startlinecolor\":\"#2a3f5f\"},\"type\":\"carpet\"}],\"choropleth\":[{\"colorbar\":{\"outlinewidth\":0,\"ticks\":\"\"},\"type\":\"choropleth\"}],\"contour\":[{\"colorbar\":{\"outlinewidth\":0,\"ticks\":\"\"},\"colorscale\":[[0.0,\"#0d0887\"],[0.1111111111111111,\"#46039f\"],[0.2222222222222222,\"#7201a8\"],[0.3333333333333333,\"#9c179e\"],[0.4444444444444444,\"#bd3786\"],[0.5555555555555556,\"#d8576b\"],[0.6666666666666666,\"#ed7953\"],[0.7777777777777778,\"#fb9f3a\"],[0.8888888888888888,\"#fdca26\"],[1.0,\"#f0f921\"]],\"type\":\"contour\"}],\"contourcarpet\":[{\"colorbar\":{\"outlinewidth\":0,\"ticks\":\"\"},\"type\":\"contourcarpet\"}],\"heatmap\":[{\"colorbar\":{\"outlinewidth\":0,\"ticks\":\"\"},\"colorscale\":[[0.0,\"#0d0887\"],[0.1111111111111111,\"#46039f\"],[0.2222222222222222,\"#7201a8\"],[0.3333333333333333,\"#9c179e\"],[0.4444444444444444,\"#bd3786\"],[0.5555555555555556,\"#d8576b\"],[0.6666666666666666,\"#ed7953\"],[0.7777777777777778,\"#fb9f3a\"],[0.8888888888888888,\"#fdca26\"],[1.0,\"#f0f921\"]],\"type\":\"heatmap\"}],\"heatmapgl\":[{\"colorbar\":{\"outlinewidth\":0,\"ticks\":\"\"},\"colorscale\":[[0.0,\"#0d0887\"],[0.1111111111111111,\"#46039f\"],[0.2222222222222222,\"#7201a8\"],[0.3333333333333333,\"#9c179e\"],[0.4444444444444444,\"#bd3786\"],[0.5555555555555556,\"#d8576b\"],[0.6666666666666666,\"#ed7953\"],[0.7777777777777778,\"#fb9f3a\"],[0.8888888888888888,\"#fdca26\"],[1.0,\"#f0f921\"]],\"type\":\"heatmapgl\"}],\"histogram\":[{\"marker\":{\"pattern\":{\"fillmode\":\"overlay\",\"size\":10,\"solidity\":0.2}},\"type\":\"histogram\"}],\"histogram2d\":[{\"colorbar\":{\"outlinewidth\":0,\"ticks\":\"\"},\"colorscale\":[[0.0,\"#0d0887\"],[0.1111111111111111,\"#46039f\"],[0.2222222222222222,\"#7201a8\"],[0.3333333333333333,\"#9c179e\"],[0.4444444444444444,\"#bd3786\"],[0.5555555555555556,\"#d8576b\"],[0.6666666666666666,\"#ed7953\"],[0.7777777777777778,\"#fb9f3a\"],[0.8888888888888888,\"#fdca26\"],[1.0,\"#f0f921\"]],\"type\":\"histogram2d\"}],\"histogram2dcontour\":[{\"colorbar\":{\"outlinewidth\":0,\"ticks\":\"\"},\"colorscale\":[[0.0,\"#0d0887\"],[0.1111111111111111,\"#46039f\"],[0.2222222222222222,\"#7201a8\"],[0.3333333333333333,\"#9c179e\"],[0.4444444444444444,\"#bd3786\"],[0.5555555555555556,\"#d8576b\"],[0.6666666666666666,\"#ed7953\"],[0.7777777777777778,\"#fb9f3a\"],[0.8888888888888888,\"#fdca26\"],[1.0,\"#f0f921\"]],\"type\":\"histogram2dcontour\"}],\"mesh3d\":[{\"colorbar\":{\"outlinewidth\":0,\"ticks\":\"\"},\"type\":\"mesh3d\"}],\"parcoords\":[{\"line\":{\"colorbar\":{\"outlinewidth\":0,\"ticks\":\"\"}},\"type\":\"parcoords\"}],\"pie\":[{\"automargin\":true,\"type\":\"pie\"}],\"scatter\":[{\"marker\":{\"colorbar\":{\"outlinewidth\":0,\"ticks\":\"\"}},\"type\":\"scatter\"}],\"scatter3d\":[{\"line\":{\"colorbar\":{\"outlinewidth\":0,\"ticks\":\"\"}},\"marker\":{\"colorbar\":{\"outlinewidth\":0,\"ticks\":\"\"}},\"type\":\"scatter3d\"}],\"scattercarpet\":[{\"marker\":{\"colorbar\":{\"outlinewidth\":0,\"ticks\":\"\"}},\"type\":\"scattercarpet\"}],\"scattergeo\":[{\"marker\":{\"colorbar\":{\"outlinewidth\":0,\"ticks\":\"\"}},\"type\":\"scattergeo\"}],\"scattergl\":[{\"marker\":{\"colorbar\":{\"outlinewidth\":0,\"ticks\":\"\"}},\"type\":\"scattergl\"}],\"scattermapbox\":[{\"marker\":{\"colorbar\":{\"outlinewidth\":0,\"ticks\":\"\"}},\"type\":\"scattermapbox\"}],\"scatterpolar\":[{\"marker\":{\"colorbar\":{\"outlinewidth\":0,\"ticks\":\"\"}},\"type\":\"scatterpolar\"}],\"scatterpolargl\":[{\"marker\":{\"colorbar\":{\"outlinewidth\":0,\"ticks\":\"\"}},\"type\":\"scatterpolargl\"}],\"scatterternary\":[{\"marker\":{\"colorbar\":{\"outlinewidth\":0,\"ticks\":\"\"}},\"type\":\"scatterternary\"}],\"surface\":[{\"colorbar\":{\"outlinewidth\":0,\"ticks\":\"\"},\"colorscale\":[[0.0,\"#0d0887\"],[0.1111111111111111,\"#46039f\"],[0.2222222222222222,\"#7201a8\"],[0.3333333333333333,\"#9c179e\"],[0.4444444444444444,\"#bd3786\"],[0.5555555555555556,\"#d8576b\"],[0.6666666666666666,\"#ed7953\"],[0.7777777777777778,\"#fb9f3a\"],[0.8888888888888888,\"#fdca26\"],[1.0,\"#f0f921\"]],\"type\":\"surface\"}],\"table\":[{\"cells\":{\"fill\":{\"color\":\"#EBF0F8\"},\"line\":{\"color\":\"white\"}},\"header\":{\"fill\":{\"color\":\"#C8D4E3\"},\"line\":{\"color\":\"white\"}},\"type\":\"table\"}]},\"layout\":{\"annotationdefaults\":{\"arrowcolor\":\"#2a3f5f\",\"arrowhead\":0,\"arrowwidth\":1},\"autotypenumbers\":\"strict\",\"coloraxis\":{\"colorbar\":{\"outlinewidth\":0,\"ticks\":\"\"}},\"colorscale\":{\"diverging\":[[0,\"#8e0152\"],[0.1,\"#c51b7d\"],[0.2,\"#de77ae\"],[0.3,\"#f1b6da\"],[0.4,\"#fde0ef\"],[0.5,\"#f7f7f7\"],[0.6,\"#e6f5d0\"],[0.7,\"#b8e186\"],[0.8,\"#7fbc41\"],[0.9,\"#4d9221\"],[1,\"#276419\"]],\"sequential\":[[0.0,\"#0d0887\"],[0.1111111111111111,\"#46039f\"],[0.2222222222222222,\"#7201a8\"],[0.3333333333333333,\"#9c179e\"],[0.4444444444444444,\"#bd3786\"],[0.5555555555555556,\"#d8576b\"],[0.6666666666666666,\"#ed7953\"],[0.7777777777777778,\"#fb9f3a\"],[0.8888888888888888,\"#fdca26\"],[1.0,\"#f0f921\"]],\"sequentialminus\":[[0.0,\"#0d0887\"],[0.1111111111111111,\"#46039f\"],[0.2222222222222222,\"#7201a8\"],[0.3333333333333333,\"#9c179e\"],[0.4444444444444444,\"#bd3786\"],[0.5555555555555556,\"#d8576b\"],[0.6666666666666666,\"#ed7953\"],[0.7777777777777778,\"#fb9f3a\"],[0.8888888888888888,\"#fdca26\"],[1.0,\"#f0f921\"]]},\"colorway\":[\"#636efa\",\"#EF553B\",\"#00cc96\",\"#ab63fa\",\"#FFA15A\",\"#19d3f3\",\"#FF6692\",\"#B6E880\",\"#FF97FF\",\"#FECB52\"],\"font\":{\"color\":\"#2a3f5f\"},\"geo\":{\"bgcolor\":\"white\",\"lakecolor\":\"white\",\"landcolor\":\"#E5ECF6\",\"showlakes\":true,\"showland\":true,\"subunitcolor\":\"white\"},\"hoverlabel\":{\"align\":\"left\"},\"hovermode\":\"closest\",\"mapbox\":{\"style\":\"light\"},\"paper_bgcolor\":\"white\",\"plot_bgcolor\":\"#E5ECF6\",\"polar\":{\"angularaxis\":{\"gridcolor\":\"white\",\"linecolor\":\"white\",\"ticks\":\"\"},\"bgcolor\":\"#E5ECF6\",\"radialaxis\":{\"gridcolor\":\"white\",\"linecolor\":\"white\",\"ticks\":\"\"}},\"scene\":{\"xaxis\":{\"backgroundcolor\":\"#E5ECF6\",\"gridcolor\":\"white\",\"gridwidth\":2,\"linecolor\":\"white\",\"showbackground\":true,\"ticks\":\"\",\"zerolinecolor\":\"white\"},\"yaxis\":{\"backgroundcolor\":\"#E5ECF6\",\"gridcolor\":\"white\",\"gridwidth\":2,\"linecolor\":\"white\",\"showbackground\":true,\"ticks\":\"\",\"zerolinecolor\":\"white\"},\"zaxis\":{\"backgroundcolor\":\"#E5ECF6\",\"gridcolor\":\"white\",\"gridwidth\":2,\"linecolor\":\"white\",\"showbackground\":true,\"ticks\":\"\",\"zerolinecolor\":\"white\"}},\"shapedefaults\":{\"line\":{\"color\":\"#2a3f5f\"}},\"ternary\":{\"aaxis\":{\"gridcolor\":\"white\",\"linecolor\":\"white\",\"ticks\":\"\"},\"baxis\":{\"gridcolor\":\"white\",\"linecolor\":\"white\",\"ticks\":\"\"},\"bgcolor\":\"#E5ECF6\",\"caxis\":{\"gridcolor\":\"white\",\"linecolor\":\"white\",\"ticks\":\"\"}},\"title\":{\"x\":0.05},\"xaxis\":{\"automargin\":true,\"gridcolor\":\"white\",\"linecolor\":\"white\",\"ticks\":\"\",\"title\":{\"standoff\":15},\"zerolinecolor\":\"white\",\"zerolinewidth\":2},\"yaxis\":{\"automargin\":true,\"gridcolor\":\"white\",\"linecolor\":\"white\",\"ticks\":\"\",\"title\":{\"standoff\":15},\"zerolinecolor\":\"white\",\"zerolinewidth\":2}}},\"title\":{\"text\":\"Stage Spacing Vs. Lateral Length, Sized by EUR, and Colored by Proppant Loading\"},\"xaxis\":{\"title\":{\"text\":\"Stage spacing\"}},\"yaxis\":{\"title\":{\"text\":\"Lateral Length\"}}},                        {\"responsive\": true}                    ).then(function(){\n",
       "                            \n",
       "var gd = document.getElementById('da554ea7-8d91-43c1-8d7c-5ceb6cdea6db');\n",
       "var x = new MutationObserver(function (mutations, observer) {{\n",
       "        var display = window.getComputedStyle(gd).display;\n",
       "        if (!display || display === 'none') {{\n",
       "            console.log([gd, 'removed!']);\n",
       "            Plotly.purge(gd);\n",
       "            observer.disconnect();\n",
       "        }}\n",
       "}});\n",
       "\n",
       "// Listen for the removal of the full notebook cells\n",
       "var notebookContainer = gd.closest('#notebook-container');\n",
       "if (notebookContainer) {{\n",
       "    x.observe(notebookContainer, {childList: true});\n",
       "}}\n",
       "\n",
       "// Listen for the clearing of the current output cell\n",
       "var outputEl = gd.closest('.output');\n",
       "if (outputEl) {{\n",
       "    x.observe(outputEl, {childList: true});\n",
       "}}\n",
       "\n",
       "                        })                };                });            </script>        </div>"
      ]
     },
     "metadata": {},
     "output_type": "display_data"
    }
   ],
   "source": [
    "data= [go.Scatter(x=df['Stage Spacing'], y=df['Lateral Length'],\n",
    "                  mode='markers',\n",
    "                  marker=dict(size=df['EUR'], color=df['Proppant Loading'], showscale=True))]\n",
    "layout = go.Layout(title = 'Stage Spacing Vs. Lateral Length, Sized by EUR, and Colored by Proppant Loading', \n",
    "                   xaxis = dict(title = 'Stage spacing'), \n",
    "                   yaxis = dict(title = 'Lateral Length'), \n",
    "                   hovermode ='closest')\n",
    "fig = go.Figure(data=data, layout=layout)\n",
    "fig.show()"
   ]
  },
  {
   "cell_type": "code",
   "execution_count": 6,
   "metadata": {},
   "outputs": [
    {
     "data": {
      "application/vnd.plotly.v1+json": {
       "config": {
        "plotlyServerURL": "https://plot.ly"
       },
       "data": [
        {
         "boxpoints": "all",
         "jitter": 0.5,
         "pointpos": 0,
         "type": "box",
         "y": [
          13.3,
          12.5,
          16.9,
          16.5,
          17.4,
          14.9,
          13,
          14.4,
          10.8,
          11.6,
          10.3,
          11.6,
          12.6,
          12.1,
          11.4,
          12,
          13,
          11.2,
          12.1,
          11.4,
          9.9,
          11.9,
          10.4,
          10.2,
          10.5,
          10,
          10.9,
          10.3,
          11.5,
          12.3,
          9.6,
          10.2,
          9.7,
          9.7,
          9.8,
          11.6,
          12,
          12.3,
          13.6,
          15.6,
          17,
          14.2,
          13.8,
          13.6,
          12.4,
          11.8,
          12,
          10.9,
          10.1,
          11.8,
          11.9,
          12.2,
          13.7,
          13.1,
          11.6,
          17.1,
          13.6,
          15.9,
          13.1,
          11.9,
          11.6,
          10.7,
          12.7,
          13.7,
          16.3,
          13.2,
          11.8,
          12.7,
          11.1,
          12.3,
          13.4,
          12.6,
          12.9,
          13.1,
          13.4,
          12.5,
          12,
          12.3,
          12.4,
          12.1,
          14.7,
          13.3,
          13.6,
          13,
          13.3,
          14.2,
          12.8,
          12.7,
          13.2,
          14.9,
          12.9,
          12.7,
          13,
          13.7,
          12.2,
          14.8,
          12.5,
          18.2,
          19.9,
          16.4,
          14.5,
          14.2,
          11.5,
          11.8,
          12,
          11.8,
          11.8,
          12.1,
          11.9,
          11.8,
          12.6,
          12.9,
          11.6,
          11.6,
          11.5,
          11.4,
          12.4,
          11.7,
          12.1,
          11.8,
          12.7,
          12.1,
          12.2,
          11.1,
          11.6,
          12.5,
          10.6,
          10.7,
          11.3,
          10.1,
          11.7,
          11.9,
          13,
          11.5,
          10.5,
          11.4,
          11.1,
          11,
          9.8,
          11.3,
          10,
          10.1,
          9.8,
          10.5,
          9.3,
          9.9,
          10.5,
          10.2,
          11.3,
          10.5,
          12.5,
          11.9,
          10.4,
          11.8,
          11,
          10.5,
          9.7,
          19.1,
          13.4,
          13.1,
          14.3,
          22,
          22,
          22,
          12.9,
          13.7,
          22,
          13.3,
          13.3,
          12.8,
          11.1,
          11.7,
          13,
          13.2,
          12.9,
          15.1,
          13.1,
          13.5,
          15.3,
          17.7,
          18.6,
          17.4,
          18,
          16.2,
          14.1,
          15.2,
          22,
          16,
          15.3,
          17,
          17.7,
          15.5,
          17.5,
          15.7,
          15,
          22,
          16.4,
          15.4,
          16.9,
          17,
          16.3,
          13.4,
          19.4,
          21.5,
          22,
          12.9,
          13.5,
          12.8,
          13.5,
          12,
          12.6,
          11.8,
          12.8,
          14.7,
          13.2,
          13.7,
          13.1,
          14.9,
          12.5,
          13,
          14.2,
          12.6,
          14.5,
          15.4,
          20.3,
          22,
          17.9,
          15.9,
          20.9,
          15.8,
          13.4,
          15.9,
          19.2,
          21.4,
          15,
          13.3,
          13.7,
          15.8,
          13.2,
          13.1,
          12.7,
          12,
          12.7,
          13.2,
          11.2,
          11.5,
          13.4,
          12.2,
          13.5,
          14.1,
          13.5,
          13.6,
          15.2,
          19.6,
          12.6,
          12.3,
          20,
          22,
          17.3,
          15.4,
          16.6,
          19.7,
          21.6,
          15.7,
          17.5,
          12.9,
          15.6,
          22,
          19.8,
          12.2,
          12.4,
          13.7,
          13.5,
          17.1,
          16.1,
          16,
          16.4,
          16.4,
          15,
          17,
          20.5,
          17.1,
          20.7,
          22,
          16.1,
          12.7,
          12,
          13.1,
          12.8,
          13.6,
          14.8,
          17.8,
          14.6,
          13.3,
          12.6,
          14.9,
          14.4,
          12.1,
          12.8,
          15,
          13.6,
          12.7,
          14.1,
          16.4,
          17.4,
          14.8,
          16.5,
          14.7,
          12.9,
          12.1,
          10.7,
          12.7,
          11.8,
          12.5,
          13.3,
          10.7,
          11.3,
          11.9,
          13,
          12.3,
          13.3,
          13,
          12.1,
          11.5,
          13.7,
          13.5,
          13,
          12.7,
          11.8,
          12.9,
          11.9,
          11,
          11.8,
          12.7,
          12.2,
          12.4,
          11.8,
          11.5,
          12.2,
          11.7,
          11.6,
          16.2,
          10.8,
          13.3,
          15.7,
          11.2,
          11.1,
          13,
          13.5,
          14.2,
          13,
          13.4,
          11.5,
          15.4,
          11.4,
          12.2,
          11.3,
          12.6,
          12.9,
          12.9,
          13.7,
          12,
          12.3,
          10.9,
          12.6,
          14.5,
          12.6,
          13,
          22,
          22,
          22,
          22,
          22,
          9.9,
          9.9,
          10.3,
          10,
          9.8,
          9.7,
          8.7,
          8.8,
          9,
          9.1,
          9.4,
          8.3,
          7.7,
          8.8,
          7.8,
          8.7,
          9.2,
          10.4,
          13.1,
          8.6,
          9.9,
          9.6,
          9.7,
          9.5,
          8.2,
          7,
          7.4,
          7.2,
          7.7,
          9.4,
          8.1,
          8.2,
          7,
          9.3,
          14.6,
          11.1,
          14.5,
          10.3,
          11.1,
          11.3,
          10.8,
          7.7,
          7.7,
          7.8,
          8.8,
          8.3,
          8.1,
          10.9,
          10.1,
          12.3,
          9.8,
          9.2,
          8.1,
          8.7,
          9,
          9,
          8.5,
          10.2,
          10,
          10.7,
          10.1,
          9.2,
          9.8,
          8.5,
          8.2,
          8.1,
          9.6,
          8.8,
          11,
          11.5,
          10.5,
          8.9,
          9.3,
          10.3,
          9.5,
          10,
          9.7,
          9.8,
          10.4,
          10.7,
          11.3,
          10.3,
          10,
          9.6,
          9.8,
          10.3,
          12,
          10.8,
          11.2,
          11.8,
          12.1,
          12.5,
          12,
          11.7,
          11.7,
          11.7,
          12,
          12,
          11.9,
          13.1,
          15.3,
          9.9,
          9.8,
          10.9,
          9.3,
          10.2,
          12.5,
          13,
          13.2,
          13.7,
          12.6,
          12.2,
          12.4,
          11.7,
          12.2,
          10.4,
          7.7,
          8,
          9.9,
          12,
          12.6,
          13.5,
          13,
          11.9,
          11.4,
          12.4,
          11.2,
          10.9,
          12.8,
          12.2,
          13.3,
          12.7,
          9.3
         ]
        }
       ],
       "layout": {
        "hovermode": "closest",
        "template": {
         "data": {
          "bar": [
           {
            "error_x": {
             "color": "#2a3f5f"
            },
            "error_y": {
             "color": "#2a3f5f"
            },
            "marker": {
             "line": {
              "color": "#E5ECF6",
              "width": 0.5
             },
             "pattern": {
              "fillmode": "overlay",
              "size": 10,
              "solidity": 0.2
             }
            },
            "type": "bar"
           }
          ],
          "barpolar": [
           {
            "marker": {
             "line": {
              "color": "#E5ECF6",
              "width": 0.5
             },
             "pattern": {
              "fillmode": "overlay",
              "size": 10,
              "solidity": 0.2
             }
            },
            "type": "barpolar"
           }
          ],
          "carpet": [
           {
            "aaxis": {
             "endlinecolor": "#2a3f5f",
             "gridcolor": "white",
             "linecolor": "white",
             "minorgridcolor": "white",
             "startlinecolor": "#2a3f5f"
            },
            "baxis": {
             "endlinecolor": "#2a3f5f",
             "gridcolor": "white",
             "linecolor": "white",
             "minorgridcolor": "white",
             "startlinecolor": "#2a3f5f"
            },
            "type": "carpet"
           }
          ],
          "choropleth": [
           {
            "colorbar": {
             "outlinewidth": 0,
             "ticks": ""
            },
            "type": "choropleth"
           }
          ],
          "contour": [
           {
            "colorbar": {
             "outlinewidth": 0,
             "ticks": ""
            },
            "colorscale": [
             [
              0,
              "#0d0887"
             ],
             [
              0.1111111111111111,
              "#46039f"
             ],
             [
              0.2222222222222222,
              "#7201a8"
             ],
             [
              0.3333333333333333,
              "#9c179e"
             ],
             [
              0.4444444444444444,
              "#bd3786"
             ],
             [
              0.5555555555555556,
              "#d8576b"
             ],
             [
              0.6666666666666666,
              "#ed7953"
             ],
             [
              0.7777777777777778,
              "#fb9f3a"
             ],
             [
              0.8888888888888888,
              "#fdca26"
             ],
             [
              1,
              "#f0f921"
             ]
            ],
            "type": "contour"
           }
          ],
          "contourcarpet": [
           {
            "colorbar": {
             "outlinewidth": 0,
             "ticks": ""
            },
            "type": "contourcarpet"
           }
          ],
          "heatmap": [
           {
            "colorbar": {
             "outlinewidth": 0,
             "ticks": ""
            },
            "colorscale": [
             [
              0,
              "#0d0887"
             ],
             [
              0.1111111111111111,
              "#46039f"
             ],
             [
              0.2222222222222222,
              "#7201a8"
             ],
             [
              0.3333333333333333,
              "#9c179e"
             ],
             [
              0.4444444444444444,
              "#bd3786"
             ],
             [
              0.5555555555555556,
              "#d8576b"
             ],
             [
              0.6666666666666666,
              "#ed7953"
             ],
             [
              0.7777777777777778,
              "#fb9f3a"
             ],
             [
              0.8888888888888888,
              "#fdca26"
             ],
             [
              1,
              "#f0f921"
             ]
            ],
            "type": "heatmap"
           }
          ],
          "heatmapgl": [
           {
            "colorbar": {
             "outlinewidth": 0,
             "ticks": ""
            },
            "colorscale": [
             [
              0,
              "#0d0887"
             ],
             [
              0.1111111111111111,
              "#46039f"
             ],
             [
              0.2222222222222222,
              "#7201a8"
             ],
             [
              0.3333333333333333,
              "#9c179e"
             ],
             [
              0.4444444444444444,
              "#bd3786"
             ],
             [
              0.5555555555555556,
              "#d8576b"
             ],
             [
              0.6666666666666666,
              "#ed7953"
             ],
             [
              0.7777777777777778,
              "#fb9f3a"
             ],
             [
              0.8888888888888888,
              "#fdca26"
             ],
             [
              1,
              "#f0f921"
             ]
            ],
            "type": "heatmapgl"
           }
          ],
          "histogram": [
           {
            "marker": {
             "pattern": {
              "fillmode": "overlay",
              "size": 10,
              "solidity": 0.2
             }
            },
            "type": "histogram"
           }
          ],
          "histogram2d": [
           {
            "colorbar": {
             "outlinewidth": 0,
             "ticks": ""
            },
            "colorscale": [
             [
              0,
              "#0d0887"
             ],
             [
              0.1111111111111111,
              "#46039f"
             ],
             [
              0.2222222222222222,
              "#7201a8"
             ],
             [
              0.3333333333333333,
              "#9c179e"
             ],
             [
              0.4444444444444444,
              "#bd3786"
             ],
             [
              0.5555555555555556,
              "#d8576b"
             ],
             [
              0.6666666666666666,
              "#ed7953"
             ],
             [
              0.7777777777777778,
              "#fb9f3a"
             ],
             [
              0.8888888888888888,
              "#fdca26"
             ],
             [
              1,
              "#f0f921"
             ]
            ],
            "type": "histogram2d"
           }
          ],
          "histogram2dcontour": [
           {
            "colorbar": {
             "outlinewidth": 0,
             "ticks": ""
            },
            "colorscale": [
             [
              0,
              "#0d0887"
             ],
             [
              0.1111111111111111,
              "#46039f"
             ],
             [
              0.2222222222222222,
              "#7201a8"
             ],
             [
              0.3333333333333333,
              "#9c179e"
             ],
             [
              0.4444444444444444,
              "#bd3786"
             ],
             [
              0.5555555555555556,
              "#d8576b"
             ],
             [
              0.6666666666666666,
              "#ed7953"
             ],
             [
              0.7777777777777778,
              "#fb9f3a"
             ],
             [
              0.8888888888888888,
              "#fdca26"
             ],
             [
              1,
              "#f0f921"
             ]
            ],
            "type": "histogram2dcontour"
           }
          ],
          "mesh3d": [
           {
            "colorbar": {
             "outlinewidth": 0,
             "ticks": ""
            },
            "type": "mesh3d"
           }
          ],
          "parcoords": [
           {
            "line": {
             "colorbar": {
              "outlinewidth": 0,
              "ticks": ""
             }
            },
            "type": "parcoords"
           }
          ],
          "pie": [
           {
            "automargin": true,
            "type": "pie"
           }
          ],
          "scatter": [
           {
            "marker": {
             "colorbar": {
              "outlinewidth": 0,
              "ticks": ""
             }
            },
            "type": "scatter"
           }
          ],
          "scatter3d": [
           {
            "line": {
             "colorbar": {
              "outlinewidth": 0,
              "ticks": ""
             }
            },
            "marker": {
             "colorbar": {
              "outlinewidth": 0,
              "ticks": ""
             }
            },
            "type": "scatter3d"
           }
          ],
          "scattercarpet": [
           {
            "marker": {
             "colorbar": {
              "outlinewidth": 0,
              "ticks": ""
             }
            },
            "type": "scattercarpet"
           }
          ],
          "scattergeo": [
           {
            "marker": {
             "colorbar": {
              "outlinewidth": 0,
              "ticks": ""
             }
            },
            "type": "scattergeo"
           }
          ],
          "scattergl": [
           {
            "marker": {
             "colorbar": {
              "outlinewidth": 0,
              "ticks": ""
             }
            },
            "type": "scattergl"
           }
          ],
          "scattermapbox": [
           {
            "marker": {
             "colorbar": {
              "outlinewidth": 0,
              "ticks": ""
             }
            },
            "type": "scattermapbox"
           }
          ],
          "scatterpolar": [
           {
            "marker": {
             "colorbar": {
              "outlinewidth": 0,
              "ticks": ""
             }
            },
            "type": "scatterpolar"
           }
          ],
          "scatterpolargl": [
           {
            "marker": {
             "colorbar": {
              "outlinewidth": 0,
              "ticks": ""
             }
            },
            "type": "scatterpolargl"
           }
          ],
          "scatterternary": [
           {
            "marker": {
             "colorbar": {
              "outlinewidth": 0,
              "ticks": ""
             }
            },
            "type": "scatterternary"
           }
          ],
          "surface": [
           {
            "colorbar": {
             "outlinewidth": 0,
             "ticks": ""
            },
            "colorscale": [
             [
              0,
              "#0d0887"
             ],
             [
              0.1111111111111111,
              "#46039f"
             ],
             [
              0.2222222222222222,
              "#7201a8"
             ],
             [
              0.3333333333333333,
              "#9c179e"
             ],
             [
              0.4444444444444444,
              "#bd3786"
             ],
             [
              0.5555555555555556,
              "#d8576b"
             ],
             [
              0.6666666666666666,
              "#ed7953"
             ],
             [
              0.7777777777777778,
              "#fb9f3a"
             ],
             [
              0.8888888888888888,
              "#fdca26"
             ],
             [
              1,
              "#f0f921"
             ]
            ],
            "type": "surface"
           }
          ],
          "table": [
           {
            "cells": {
             "fill": {
              "color": "#EBF0F8"
             },
             "line": {
              "color": "white"
             }
            },
            "header": {
             "fill": {
              "color": "#C8D4E3"
             },
             "line": {
              "color": "white"
             }
            },
            "type": "table"
           }
          ]
         },
         "layout": {
          "annotationdefaults": {
           "arrowcolor": "#2a3f5f",
           "arrowhead": 0,
           "arrowwidth": 1
          },
          "autotypenumbers": "strict",
          "coloraxis": {
           "colorbar": {
            "outlinewidth": 0,
            "ticks": ""
           }
          },
          "colorscale": {
           "diverging": [
            [
             0,
             "#8e0152"
            ],
            [
             0.1,
             "#c51b7d"
            ],
            [
             0.2,
             "#de77ae"
            ],
            [
             0.3,
             "#f1b6da"
            ],
            [
             0.4,
             "#fde0ef"
            ],
            [
             0.5,
             "#f7f7f7"
            ],
            [
             0.6,
             "#e6f5d0"
            ],
            [
             0.7,
             "#b8e186"
            ],
            [
             0.8,
             "#7fbc41"
            ],
            [
             0.9,
             "#4d9221"
            ],
            [
             1,
             "#276419"
            ]
           ],
           "sequential": [
            [
             0,
             "#0d0887"
            ],
            [
             0.1111111111111111,
             "#46039f"
            ],
            [
             0.2222222222222222,
             "#7201a8"
            ],
            [
             0.3333333333333333,
             "#9c179e"
            ],
            [
             0.4444444444444444,
             "#bd3786"
            ],
            [
             0.5555555555555556,
             "#d8576b"
            ],
            [
             0.6666666666666666,
             "#ed7953"
            ],
            [
             0.7777777777777778,
             "#fb9f3a"
            ],
            [
             0.8888888888888888,
             "#fdca26"
            ],
            [
             1,
             "#f0f921"
            ]
           ],
           "sequentialminus": [
            [
             0,
             "#0d0887"
            ],
            [
             0.1111111111111111,
             "#46039f"
            ],
            [
             0.2222222222222222,
             "#7201a8"
            ],
            [
             0.3333333333333333,
             "#9c179e"
            ],
            [
             0.4444444444444444,
             "#bd3786"
            ],
            [
             0.5555555555555556,
             "#d8576b"
            ],
            [
             0.6666666666666666,
             "#ed7953"
            ],
            [
             0.7777777777777778,
             "#fb9f3a"
            ],
            [
             0.8888888888888888,
             "#fdca26"
            ],
            [
             1,
             "#f0f921"
            ]
           ]
          },
          "colorway": [
           "#636efa",
           "#EF553B",
           "#00cc96",
           "#ab63fa",
           "#FFA15A",
           "#19d3f3",
           "#FF6692",
           "#B6E880",
           "#FF97FF",
           "#FECB52"
          ],
          "font": {
           "color": "#2a3f5f"
          },
          "geo": {
           "bgcolor": "white",
           "lakecolor": "white",
           "landcolor": "#E5ECF6",
           "showlakes": true,
           "showland": true,
           "subunitcolor": "white"
          },
          "hoverlabel": {
           "align": "left"
          },
          "hovermode": "closest",
          "mapbox": {
           "style": "light"
          },
          "paper_bgcolor": "white",
          "plot_bgcolor": "#E5ECF6",
          "polar": {
           "angularaxis": {
            "gridcolor": "white",
            "linecolor": "white",
            "ticks": ""
           },
           "bgcolor": "#E5ECF6",
           "radialaxis": {
            "gridcolor": "white",
            "linecolor": "white",
            "ticks": ""
           }
          },
          "scene": {
           "xaxis": {
            "backgroundcolor": "#E5ECF6",
            "gridcolor": "white",
            "gridwidth": 2,
            "linecolor": "white",
            "showbackground": true,
            "ticks": "",
            "zerolinecolor": "white"
           },
           "yaxis": {
            "backgroundcolor": "#E5ECF6",
            "gridcolor": "white",
            "gridwidth": 2,
            "linecolor": "white",
            "showbackground": true,
            "ticks": "",
            "zerolinecolor": "white"
           },
           "zaxis": {
            "backgroundcolor": "#E5ECF6",
            "gridcolor": "white",
            "gridwidth": 2,
            "linecolor": "white",
            "showbackground": true,
            "ticks": "",
            "zerolinecolor": "white"
           }
          },
          "shapedefaults": {
           "line": {
            "color": "#2a3f5f"
           }
          },
          "ternary": {
           "aaxis": {
            "gridcolor": "white",
            "linecolor": "white",
            "ticks": ""
           },
           "baxis": {
            "gridcolor": "white",
            "linecolor": "white",
            "ticks": ""
           },
           "bgcolor": "#E5ECF6",
           "caxis": {
            "gridcolor": "white",
            "linecolor": "white",
            "ticks": ""
           }
          },
          "title": {
           "x": 0.05
          },
          "xaxis": {
           "automargin": true,
           "gridcolor": "white",
           "linecolor": "white",
           "ticks": "",
           "title": {
            "standoff": 15
           },
           "zerolinecolor": "white",
           "zerolinewidth": 2
          },
          "yaxis": {
           "automargin": true,
           "gridcolor": "white",
           "linecolor": "white",
           "ticks": "",
           "title": {
            "standoff": 15
           },
           "zerolinecolor": "white",
           "zerolinewidth": 2
          }
         }
        },
        "title": {
         "text": "EUR"
        }
       }
      },
      "text/html": [
       "<div>                            <div id=\"ae19b926-dd5b-4a8d-86c9-ae3630d4d77e\" class=\"plotly-graph-div\" style=\"height:525px; width:100%;\"></div>            <script type=\"text/javascript\">                require([\"plotly\"], function(Plotly) {                    window.PLOTLYENV=window.PLOTLYENV || {};                                    if (document.getElementById(\"ae19b926-dd5b-4a8d-86c9-ae3630d4d77e\")) {                    Plotly.newPlot(                        \"ae19b926-dd5b-4a8d-86c9-ae3630d4d77e\",                        [{\"boxpoints\":\"all\",\"jitter\":0.5,\"pointpos\":0,\"type\":\"box\",\"y\":[13.3,12.5,16.9,16.5,17.4,14.9,13.0,14.4,10.8,11.6,10.3,11.6,12.6,12.1,11.4,12.0,13.0,11.2,12.1,11.4,9.9,11.9,10.4,10.2,10.5,10.0,10.9,10.3,11.5,12.3,9.6,10.2,9.7,9.7,9.8,11.6,12.0,12.3,13.6,15.6,17.0,14.2,13.8,13.6,12.4,11.8,12.0,10.9,10.1,11.8,11.9,12.2,13.7,13.1,11.6,17.1,13.6,15.9,13.1,11.9,11.6,10.7,12.7,13.7,16.3,13.2,11.8,12.7,11.1,12.3,13.4,12.6,12.9,13.1,13.4,12.5,12.0,12.3,12.4,12.1,14.7,13.3,13.6,13.0,13.3,14.2,12.8,12.7,13.2,14.9,12.9,12.7,13.0,13.7,12.2,14.8,12.5,18.2,19.9,16.4,14.5,14.2,11.5,11.8,12.0,11.8,11.8,12.1,11.9,11.8,12.6,12.9,11.6,11.6,11.5,11.4,12.4,11.7,12.1,11.8,12.7,12.1,12.2,11.1,11.6,12.5,10.6,10.7,11.3,10.1,11.7,11.9,13.0,11.5,10.5,11.4,11.1,11.0,9.8,11.3,10.0,10.1,9.8,10.5,9.3,9.9,10.5,10.2,11.3,10.5,12.5,11.9,10.4,11.8,11.0,10.5,9.7,19.1,13.4,13.1,14.3,22.0,22.0,22.0,12.9,13.7,22.0,13.3,13.3,12.8,11.1,11.7,13.0,13.2,12.9,15.1,13.1,13.5,15.3,17.7,18.6,17.4,18.0,16.2,14.1,15.2,22.0,16.0,15.3,17.0,17.7,15.5,17.5,15.7,15.0,22.0,16.4,15.4,16.9,17.0,16.3,13.4,19.4,21.5,22.0,12.9,13.5,12.8,13.5,12.0,12.6,11.8,12.8,14.7,13.2,13.7,13.1,14.9,12.5,13.0,14.2,12.6,14.5,15.4,20.3,22.0,17.9,15.9,20.9,15.8,13.4,15.9,19.2,21.4,15.0,13.3,13.7,15.8,13.2,13.1,12.7,12.0,12.7,13.2,11.2,11.5,13.4,12.2,13.5,14.1,13.5,13.6,15.2,19.6,12.6,12.3,20.0,22.0,17.3,15.4,16.6,19.7,21.6,15.7,17.5,12.9,15.6,22.0,19.8,12.2,12.4,13.7,13.5,17.1,16.1,16.0,16.4,16.4,15.0,17.0,20.5,17.1,20.7,22.0,16.1,12.7,12.0,13.1,12.8,13.6,14.8,17.8,14.6,13.3,12.6,14.9,14.4,12.1,12.8,15.0,13.6,12.7,14.1,16.4,17.4,14.8,16.5,14.7,12.9,12.1,10.7,12.7,11.8,12.5,13.3,10.7,11.3,11.9,13.0,12.3,13.3,13.0,12.1,11.5,13.7,13.5,13.0,12.7,11.8,12.9,11.9,11.0,11.8,12.7,12.2,12.4,11.8,11.5,12.2,11.7,11.6,16.2,10.8,13.3,15.7,11.2,11.1,13.0,13.5,14.2,13.0,13.4,11.5,15.4,11.4,12.2,11.3,12.6,12.9,12.9,13.7,12.0,12.3,10.9,12.6,14.5,12.6,13.0,22.0,22.0,22.0,22.0,22.0,9.9,9.9,10.3,10.0,9.8,9.7,8.7,8.8,9.0,9.1,9.4,8.3,7.7,8.8,7.8,8.7,9.2,10.4,13.1,8.6,9.9,9.6,9.7,9.5,8.2,7.0,7.4,7.2,7.7,9.4,8.1,8.2,7.0,9.3,14.6,11.1,14.5,10.3,11.1,11.3,10.8,7.7,7.7,7.8,8.8,8.3,8.1,10.9,10.1,12.3,9.8,9.2,8.1,8.7,9.0,9.0,8.5,10.2,10.0,10.7,10.1,9.2,9.8,8.5,8.2,8.1,9.6,8.8,11.0,11.5,10.5,8.9,9.3,10.3,9.5,10.0,9.7,9.8,10.4,10.7,11.3,10.3,10.0,9.6,9.8,10.3,12.0,10.8,11.2,11.8,12.1,12.5,12.0,11.7,11.7,11.7,12.0,12.0,11.9,13.1,15.3,9.9,9.8,10.9,9.3,10.2,12.5,13.0,13.2,13.7,12.6,12.2,12.4,11.7,12.2,10.4,7.7,8.0,9.9,12.0,12.6,13.5,13.0,11.9,11.4,12.4,11.2,10.9,12.8,12.2,13.3,12.7,9.3]}],                        {\"hovermode\":\"closest\",\"template\":{\"data\":{\"bar\":[{\"error_x\":{\"color\":\"#2a3f5f\"},\"error_y\":{\"color\":\"#2a3f5f\"},\"marker\":{\"line\":{\"color\":\"#E5ECF6\",\"width\":0.5},\"pattern\":{\"fillmode\":\"overlay\",\"size\":10,\"solidity\":0.2}},\"type\":\"bar\"}],\"barpolar\":[{\"marker\":{\"line\":{\"color\":\"#E5ECF6\",\"width\":0.5},\"pattern\":{\"fillmode\":\"overlay\",\"size\":10,\"solidity\":0.2}},\"type\":\"barpolar\"}],\"carpet\":[{\"aaxis\":{\"endlinecolor\":\"#2a3f5f\",\"gridcolor\":\"white\",\"linecolor\":\"white\",\"minorgridcolor\":\"white\",\"startlinecolor\":\"#2a3f5f\"},\"baxis\":{\"endlinecolor\":\"#2a3f5f\",\"gridcolor\":\"white\",\"linecolor\":\"white\",\"minorgridcolor\":\"white\",\"startlinecolor\":\"#2a3f5f\"},\"type\":\"carpet\"}],\"choropleth\":[{\"colorbar\":{\"outlinewidth\":0,\"ticks\":\"\"},\"type\":\"choropleth\"}],\"contour\":[{\"colorbar\":{\"outlinewidth\":0,\"ticks\":\"\"},\"colorscale\":[[0.0,\"#0d0887\"],[0.1111111111111111,\"#46039f\"],[0.2222222222222222,\"#7201a8\"],[0.3333333333333333,\"#9c179e\"],[0.4444444444444444,\"#bd3786\"],[0.5555555555555556,\"#d8576b\"],[0.6666666666666666,\"#ed7953\"],[0.7777777777777778,\"#fb9f3a\"],[0.8888888888888888,\"#fdca26\"],[1.0,\"#f0f921\"]],\"type\":\"contour\"}],\"contourcarpet\":[{\"colorbar\":{\"outlinewidth\":0,\"ticks\":\"\"},\"type\":\"contourcarpet\"}],\"heatmap\":[{\"colorbar\":{\"outlinewidth\":0,\"ticks\":\"\"},\"colorscale\":[[0.0,\"#0d0887\"],[0.1111111111111111,\"#46039f\"],[0.2222222222222222,\"#7201a8\"],[0.3333333333333333,\"#9c179e\"],[0.4444444444444444,\"#bd3786\"],[0.5555555555555556,\"#d8576b\"],[0.6666666666666666,\"#ed7953\"],[0.7777777777777778,\"#fb9f3a\"],[0.8888888888888888,\"#fdca26\"],[1.0,\"#f0f921\"]],\"type\":\"heatmap\"}],\"heatmapgl\":[{\"colorbar\":{\"outlinewidth\":0,\"ticks\":\"\"},\"colorscale\":[[0.0,\"#0d0887\"],[0.1111111111111111,\"#46039f\"],[0.2222222222222222,\"#7201a8\"],[0.3333333333333333,\"#9c179e\"],[0.4444444444444444,\"#bd3786\"],[0.5555555555555556,\"#d8576b\"],[0.6666666666666666,\"#ed7953\"],[0.7777777777777778,\"#fb9f3a\"],[0.8888888888888888,\"#fdca26\"],[1.0,\"#f0f921\"]],\"type\":\"heatmapgl\"}],\"histogram\":[{\"marker\":{\"pattern\":{\"fillmode\":\"overlay\",\"size\":10,\"solidity\":0.2}},\"type\":\"histogram\"}],\"histogram2d\":[{\"colorbar\":{\"outlinewidth\":0,\"ticks\":\"\"},\"colorscale\":[[0.0,\"#0d0887\"],[0.1111111111111111,\"#46039f\"],[0.2222222222222222,\"#7201a8\"],[0.3333333333333333,\"#9c179e\"],[0.4444444444444444,\"#bd3786\"],[0.5555555555555556,\"#d8576b\"],[0.6666666666666666,\"#ed7953\"],[0.7777777777777778,\"#fb9f3a\"],[0.8888888888888888,\"#fdca26\"],[1.0,\"#f0f921\"]],\"type\":\"histogram2d\"}],\"histogram2dcontour\":[{\"colorbar\":{\"outlinewidth\":0,\"ticks\":\"\"},\"colorscale\":[[0.0,\"#0d0887\"],[0.1111111111111111,\"#46039f\"],[0.2222222222222222,\"#7201a8\"],[0.3333333333333333,\"#9c179e\"],[0.4444444444444444,\"#bd3786\"],[0.5555555555555556,\"#d8576b\"],[0.6666666666666666,\"#ed7953\"],[0.7777777777777778,\"#fb9f3a\"],[0.8888888888888888,\"#fdca26\"],[1.0,\"#f0f921\"]],\"type\":\"histogram2dcontour\"}],\"mesh3d\":[{\"colorbar\":{\"outlinewidth\":0,\"ticks\":\"\"},\"type\":\"mesh3d\"}],\"parcoords\":[{\"line\":{\"colorbar\":{\"outlinewidth\":0,\"ticks\":\"\"}},\"type\":\"parcoords\"}],\"pie\":[{\"automargin\":true,\"type\":\"pie\"}],\"scatter\":[{\"marker\":{\"colorbar\":{\"outlinewidth\":0,\"ticks\":\"\"}},\"type\":\"scatter\"}],\"scatter3d\":[{\"line\":{\"colorbar\":{\"outlinewidth\":0,\"ticks\":\"\"}},\"marker\":{\"colorbar\":{\"outlinewidth\":0,\"ticks\":\"\"}},\"type\":\"scatter3d\"}],\"scattercarpet\":[{\"marker\":{\"colorbar\":{\"outlinewidth\":0,\"ticks\":\"\"}},\"type\":\"scattercarpet\"}],\"scattergeo\":[{\"marker\":{\"colorbar\":{\"outlinewidth\":0,\"ticks\":\"\"}},\"type\":\"scattergeo\"}],\"scattergl\":[{\"marker\":{\"colorbar\":{\"outlinewidth\":0,\"ticks\":\"\"}},\"type\":\"scattergl\"}],\"scattermapbox\":[{\"marker\":{\"colorbar\":{\"outlinewidth\":0,\"ticks\":\"\"}},\"type\":\"scattermapbox\"}],\"scatterpolar\":[{\"marker\":{\"colorbar\":{\"outlinewidth\":0,\"ticks\":\"\"}},\"type\":\"scatterpolar\"}],\"scatterpolargl\":[{\"marker\":{\"colorbar\":{\"outlinewidth\":0,\"ticks\":\"\"}},\"type\":\"scatterpolargl\"}],\"scatterternary\":[{\"marker\":{\"colorbar\":{\"outlinewidth\":0,\"ticks\":\"\"}},\"type\":\"scatterternary\"}],\"surface\":[{\"colorbar\":{\"outlinewidth\":0,\"ticks\":\"\"},\"colorscale\":[[0.0,\"#0d0887\"],[0.1111111111111111,\"#46039f\"],[0.2222222222222222,\"#7201a8\"],[0.3333333333333333,\"#9c179e\"],[0.4444444444444444,\"#bd3786\"],[0.5555555555555556,\"#d8576b\"],[0.6666666666666666,\"#ed7953\"],[0.7777777777777778,\"#fb9f3a\"],[0.8888888888888888,\"#fdca26\"],[1.0,\"#f0f921\"]],\"type\":\"surface\"}],\"table\":[{\"cells\":{\"fill\":{\"color\":\"#EBF0F8\"},\"line\":{\"color\":\"white\"}},\"header\":{\"fill\":{\"color\":\"#C8D4E3\"},\"line\":{\"color\":\"white\"}},\"type\":\"table\"}]},\"layout\":{\"annotationdefaults\":{\"arrowcolor\":\"#2a3f5f\",\"arrowhead\":0,\"arrowwidth\":1},\"autotypenumbers\":\"strict\",\"coloraxis\":{\"colorbar\":{\"outlinewidth\":0,\"ticks\":\"\"}},\"colorscale\":{\"diverging\":[[0,\"#8e0152\"],[0.1,\"#c51b7d\"],[0.2,\"#de77ae\"],[0.3,\"#f1b6da\"],[0.4,\"#fde0ef\"],[0.5,\"#f7f7f7\"],[0.6,\"#e6f5d0\"],[0.7,\"#b8e186\"],[0.8,\"#7fbc41\"],[0.9,\"#4d9221\"],[1,\"#276419\"]],\"sequential\":[[0.0,\"#0d0887\"],[0.1111111111111111,\"#46039f\"],[0.2222222222222222,\"#7201a8\"],[0.3333333333333333,\"#9c179e\"],[0.4444444444444444,\"#bd3786\"],[0.5555555555555556,\"#d8576b\"],[0.6666666666666666,\"#ed7953\"],[0.7777777777777778,\"#fb9f3a\"],[0.8888888888888888,\"#fdca26\"],[1.0,\"#f0f921\"]],\"sequentialminus\":[[0.0,\"#0d0887\"],[0.1111111111111111,\"#46039f\"],[0.2222222222222222,\"#7201a8\"],[0.3333333333333333,\"#9c179e\"],[0.4444444444444444,\"#bd3786\"],[0.5555555555555556,\"#d8576b\"],[0.6666666666666666,\"#ed7953\"],[0.7777777777777778,\"#fb9f3a\"],[0.8888888888888888,\"#fdca26\"],[1.0,\"#f0f921\"]]},\"colorway\":[\"#636efa\",\"#EF553B\",\"#00cc96\",\"#ab63fa\",\"#FFA15A\",\"#19d3f3\",\"#FF6692\",\"#B6E880\",\"#FF97FF\",\"#FECB52\"],\"font\":{\"color\":\"#2a3f5f\"},\"geo\":{\"bgcolor\":\"white\",\"lakecolor\":\"white\",\"landcolor\":\"#E5ECF6\",\"showlakes\":true,\"showland\":true,\"subunitcolor\":\"white\"},\"hoverlabel\":{\"align\":\"left\"},\"hovermode\":\"closest\",\"mapbox\":{\"style\":\"light\"},\"paper_bgcolor\":\"white\",\"plot_bgcolor\":\"#E5ECF6\",\"polar\":{\"angularaxis\":{\"gridcolor\":\"white\",\"linecolor\":\"white\",\"ticks\":\"\"},\"bgcolor\":\"#E5ECF6\",\"radialaxis\":{\"gridcolor\":\"white\",\"linecolor\":\"white\",\"ticks\":\"\"}},\"scene\":{\"xaxis\":{\"backgroundcolor\":\"#E5ECF6\",\"gridcolor\":\"white\",\"gridwidth\":2,\"linecolor\":\"white\",\"showbackground\":true,\"ticks\":\"\",\"zerolinecolor\":\"white\"},\"yaxis\":{\"backgroundcolor\":\"#E5ECF6\",\"gridcolor\":\"white\",\"gridwidth\":2,\"linecolor\":\"white\",\"showbackground\":true,\"ticks\":\"\",\"zerolinecolor\":\"white\"},\"zaxis\":{\"backgroundcolor\":\"#E5ECF6\",\"gridcolor\":\"white\",\"gridwidth\":2,\"linecolor\":\"white\",\"showbackground\":true,\"ticks\":\"\",\"zerolinecolor\":\"white\"}},\"shapedefaults\":{\"line\":{\"color\":\"#2a3f5f\"}},\"ternary\":{\"aaxis\":{\"gridcolor\":\"white\",\"linecolor\":\"white\",\"ticks\":\"\"},\"baxis\":{\"gridcolor\":\"white\",\"linecolor\":\"white\",\"ticks\":\"\"},\"bgcolor\":\"#E5ECF6\",\"caxis\":{\"gridcolor\":\"white\",\"linecolor\":\"white\",\"ticks\":\"\"}},\"title\":{\"x\":0.05},\"xaxis\":{\"automargin\":true,\"gridcolor\":\"white\",\"linecolor\":\"white\",\"ticks\":\"\",\"title\":{\"standoff\":15},\"zerolinecolor\":\"white\",\"zerolinewidth\":2},\"yaxis\":{\"automargin\":true,\"gridcolor\":\"white\",\"linecolor\":\"white\",\"ticks\":\"\",\"title\":{\"standoff\":15},\"zerolinecolor\":\"white\",\"zerolinewidth\":2}}},\"title\":{\"text\":\"EUR\"}},                        {\"responsive\": true}                    ).then(function(){\n",
       "                            \n",
       "var gd = document.getElementById('ae19b926-dd5b-4a8d-86c9-ae3630d4d77e');\n",
       "var x = new MutationObserver(function (mutations, observer) {{\n",
       "        var display = window.getComputedStyle(gd).display;\n",
       "        if (!display || display === 'none') {{\n",
       "            console.log([gd, 'removed!']);\n",
       "            Plotly.purge(gd);\n",
       "            observer.disconnect();\n",
       "        }}\n",
       "}});\n",
       "\n",
       "// Listen for the removal of the full notebook cells\n",
       "var notebookContainer = gd.closest('#notebook-container');\n",
       "if (notebookContainer) {{\n",
       "    x.observe(notebookContainer, {childList: true});\n",
       "}}\n",
       "\n",
       "// Listen for the clearing of the current output cell\n",
       "var outputEl = gd.closest('.output');\n",
       "if (outputEl) {{\n",
       "    x.observe(outputEl, {childList: true});\n",
       "}}\n",
       "\n",
       "                        })                };                });            </script>        </div>"
      ]
     },
     "metadata": {},
     "output_type": "display_data"
    }
   ],
   "source": [
    "data= [go.Box(y=df['EUR'], boxpoints='all', jitter=0.5, pointpos=0)]\n",
    "    \n",
    "layout = go.Layout(title = 'EUR', \n",
    "                   hovermode ='closest')\n",
    "\n",
    "fig = go.Figure(data=data, layout=layout)\n",
    "\n",
    "fig.show()"
   ]
  },
  {
   "cell_type": "code",
   "execution_count": 7,
   "metadata": {},
   "outputs": [
    {
     "data": {
      "application/vnd.plotly.v1+json": {
       "config": {
        "plotlyServerURL": "https://plot.ly"
       },
       "data": [
        {
         "boxpoints": "outliers",
         "jitter": 0.5,
         "pointpos": 0,
         "type": "box",
         "y": [
          13.3,
          12.5,
          16.9,
          16.5,
          17.4,
          14.9,
          13,
          14.4,
          10.8,
          11.6,
          10.3,
          11.6,
          12.6,
          12.1,
          11.4,
          12,
          13,
          11.2,
          12.1,
          11.4,
          9.9,
          11.9,
          10.4,
          10.2,
          10.5,
          10,
          10.9,
          10.3,
          11.5,
          12.3,
          9.6,
          10.2,
          9.7,
          9.7,
          9.8,
          11.6,
          12,
          12.3,
          13.6,
          15.6,
          17,
          14.2,
          13.8,
          13.6,
          12.4,
          11.8,
          12,
          10.9,
          10.1,
          11.8,
          11.9,
          12.2,
          13.7,
          13.1,
          11.6,
          17.1,
          13.6,
          15.9,
          13.1,
          11.9,
          11.6,
          10.7,
          12.7,
          13.7,
          16.3,
          13.2,
          11.8,
          12.7,
          11.1,
          12.3,
          13.4,
          12.6,
          12.9,
          13.1,
          13.4,
          12.5,
          12,
          12.3,
          12.4,
          12.1,
          14.7,
          13.3,
          13.6,
          13,
          13.3,
          14.2,
          12.8,
          12.7,
          13.2,
          14.9,
          12.9,
          12.7,
          13,
          13.7,
          12.2,
          14.8,
          12.5,
          18.2,
          19.9,
          16.4,
          14.5,
          14.2,
          11.5,
          11.8,
          12,
          11.8,
          11.8,
          12.1,
          11.9,
          11.8,
          12.6,
          12.9,
          11.6,
          11.6,
          11.5,
          11.4,
          12.4,
          11.7,
          12.1,
          11.8,
          12.7,
          12.1,
          12.2,
          11.1,
          11.6,
          12.5,
          10.6,
          10.7,
          11.3,
          10.1,
          11.7,
          11.9,
          13,
          11.5,
          10.5,
          11.4,
          11.1,
          11,
          9.8,
          11.3,
          10,
          10.1,
          9.8,
          10.5,
          9.3,
          9.9,
          10.5,
          10.2,
          11.3,
          10.5,
          12.5,
          11.9,
          10.4,
          11.8,
          11,
          10.5,
          9.7,
          19.1,
          13.4,
          13.1,
          14.3,
          22,
          22,
          22,
          12.9,
          13.7,
          22,
          13.3,
          13.3,
          12.8,
          11.1,
          11.7,
          13,
          13.2,
          12.9,
          15.1,
          13.1,
          13.5,
          15.3,
          17.7,
          18.6,
          17.4,
          18,
          16.2,
          14.1,
          15.2,
          22,
          16,
          15.3,
          17,
          17.7,
          15.5,
          17.5,
          15.7,
          15,
          22,
          16.4,
          15.4,
          16.9,
          17,
          16.3,
          13.4,
          19.4,
          21.5,
          22,
          12.9,
          13.5,
          12.8,
          13.5,
          12,
          12.6,
          11.8,
          12.8,
          14.7,
          13.2,
          13.7,
          13.1,
          14.9,
          12.5,
          13,
          14.2,
          12.6,
          14.5,
          15.4,
          20.3,
          22,
          17.9,
          15.9,
          20.9,
          15.8,
          13.4,
          15.9,
          19.2,
          21.4,
          15,
          13.3,
          13.7,
          15.8,
          13.2,
          13.1,
          12.7,
          12,
          12.7,
          13.2,
          11.2,
          11.5,
          13.4,
          12.2,
          13.5,
          14.1,
          13.5,
          13.6,
          15.2,
          19.6,
          12.6,
          12.3,
          20,
          22,
          17.3,
          15.4,
          16.6,
          19.7,
          21.6,
          15.7,
          17.5,
          12.9,
          15.6,
          22,
          19.8,
          12.2,
          12.4,
          13.7,
          13.5,
          17.1,
          16.1,
          16,
          16.4,
          16.4,
          15,
          17,
          20.5,
          17.1,
          20.7,
          22,
          16.1,
          12.7,
          12,
          13.1,
          12.8,
          13.6,
          14.8,
          17.8,
          14.6,
          13.3,
          12.6,
          14.9,
          14.4,
          12.1,
          12.8,
          15,
          13.6,
          12.7,
          14.1,
          16.4,
          17.4,
          14.8,
          16.5,
          14.7,
          12.9,
          12.1,
          10.7,
          12.7,
          11.8,
          12.5,
          13.3,
          10.7,
          11.3,
          11.9,
          13,
          12.3,
          13.3,
          13,
          12.1,
          11.5,
          13.7,
          13.5,
          13,
          12.7,
          11.8,
          12.9,
          11.9,
          11,
          11.8,
          12.7,
          12.2,
          12.4,
          11.8,
          11.5,
          12.2,
          11.7,
          11.6,
          16.2,
          10.8,
          13.3,
          15.7,
          11.2,
          11.1,
          13,
          13.5,
          14.2,
          13,
          13.4,
          11.5,
          15.4,
          11.4,
          12.2,
          11.3,
          12.6,
          12.9,
          12.9,
          13.7,
          12,
          12.3,
          10.9,
          12.6,
          14.5,
          12.6,
          13,
          22,
          22,
          22,
          22,
          22,
          9.9,
          9.9,
          10.3,
          10,
          9.8,
          9.7,
          8.7,
          8.8,
          9,
          9.1,
          9.4,
          8.3,
          7.7,
          8.8,
          7.8,
          8.7,
          9.2,
          10.4,
          13.1,
          8.6,
          9.9,
          9.6,
          9.7,
          9.5,
          8.2,
          7,
          7.4,
          7.2,
          7.7,
          9.4,
          8.1,
          8.2,
          7,
          9.3,
          14.6,
          11.1,
          14.5,
          10.3,
          11.1,
          11.3,
          10.8,
          7.7,
          7.7,
          7.8,
          8.8,
          8.3,
          8.1,
          10.9,
          10.1,
          12.3,
          9.8,
          9.2,
          8.1,
          8.7,
          9,
          9,
          8.5,
          10.2,
          10,
          10.7,
          10.1,
          9.2,
          9.8,
          8.5,
          8.2,
          8.1,
          9.6,
          8.8,
          11,
          11.5,
          10.5,
          8.9,
          9.3,
          10.3,
          9.5,
          10,
          9.7,
          9.8,
          10.4,
          10.7,
          11.3,
          10.3,
          10,
          9.6,
          9.8,
          10.3,
          12,
          10.8,
          11.2,
          11.8,
          12.1,
          12.5,
          12,
          11.7,
          11.7,
          11.7,
          12,
          12,
          11.9,
          13.1,
          15.3,
          9.9,
          9.8,
          10.9,
          9.3,
          10.2,
          12.5,
          13,
          13.2,
          13.7,
          12.6,
          12.2,
          12.4,
          11.7,
          12.2,
          10.4,
          7.7,
          8,
          9.9,
          12,
          12.6,
          13.5,
          13,
          11.9,
          11.4,
          12.4,
          11.2,
          10.9,
          12.8,
          12.2,
          13.3,
          12.7,
          9.3
         ]
        }
       ],
       "layout": {
        "hovermode": "closest",
        "template": {
         "data": {
          "bar": [
           {
            "error_x": {
             "color": "#2a3f5f"
            },
            "error_y": {
             "color": "#2a3f5f"
            },
            "marker": {
             "line": {
              "color": "#E5ECF6",
              "width": 0.5
             },
             "pattern": {
              "fillmode": "overlay",
              "size": 10,
              "solidity": 0.2
             }
            },
            "type": "bar"
           }
          ],
          "barpolar": [
           {
            "marker": {
             "line": {
              "color": "#E5ECF6",
              "width": 0.5
             },
             "pattern": {
              "fillmode": "overlay",
              "size": 10,
              "solidity": 0.2
             }
            },
            "type": "barpolar"
           }
          ],
          "carpet": [
           {
            "aaxis": {
             "endlinecolor": "#2a3f5f",
             "gridcolor": "white",
             "linecolor": "white",
             "minorgridcolor": "white",
             "startlinecolor": "#2a3f5f"
            },
            "baxis": {
             "endlinecolor": "#2a3f5f",
             "gridcolor": "white",
             "linecolor": "white",
             "minorgridcolor": "white",
             "startlinecolor": "#2a3f5f"
            },
            "type": "carpet"
           }
          ],
          "choropleth": [
           {
            "colorbar": {
             "outlinewidth": 0,
             "ticks": ""
            },
            "type": "choropleth"
           }
          ],
          "contour": [
           {
            "colorbar": {
             "outlinewidth": 0,
             "ticks": ""
            },
            "colorscale": [
             [
              0,
              "#0d0887"
             ],
             [
              0.1111111111111111,
              "#46039f"
             ],
             [
              0.2222222222222222,
              "#7201a8"
             ],
             [
              0.3333333333333333,
              "#9c179e"
             ],
             [
              0.4444444444444444,
              "#bd3786"
             ],
             [
              0.5555555555555556,
              "#d8576b"
             ],
             [
              0.6666666666666666,
              "#ed7953"
             ],
             [
              0.7777777777777778,
              "#fb9f3a"
             ],
             [
              0.8888888888888888,
              "#fdca26"
             ],
             [
              1,
              "#f0f921"
             ]
            ],
            "type": "contour"
           }
          ],
          "contourcarpet": [
           {
            "colorbar": {
             "outlinewidth": 0,
             "ticks": ""
            },
            "type": "contourcarpet"
           }
          ],
          "heatmap": [
           {
            "colorbar": {
             "outlinewidth": 0,
             "ticks": ""
            },
            "colorscale": [
             [
              0,
              "#0d0887"
             ],
             [
              0.1111111111111111,
              "#46039f"
             ],
             [
              0.2222222222222222,
              "#7201a8"
             ],
             [
              0.3333333333333333,
              "#9c179e"
             ],
             [
              0.4444444444444444,
              "#bd3786"
             ],
             [
              0.5555555555555556,
              "#d8576b"
             ],
             [
              0.6666666666666666,
              "#ed7953"
             ],
             [
              0.7777777777777778,
              "#fb9f3a"
             ],
             [
              0.8888888888888888,
              "#fdca26"
             ],
             [
              1,
              "#f0f921"
             ]
            ],
            "type": "heatmap"
           }
          ],
          "heatmapgl": [
           {
            "colorbar": {
             "outlinewidth": 0,
             "ticks": ""
            },
            "colorscale": [
             [
              0,
              "#0d0887"
             ],
             [
              0.1111111111111111,
              "#46039f"
             ],
             [
              0.2222222222222222,
              "#7201a8"
             ],
             [
              0.3333333333333333,
              "#9c179e"
             ],
             [
              0.4444444444444444,
              "#bd3786"
             ],
             [
              0.5555555555555556,
              "#d8576b"
             ],
             [
              0.6666666666666666,
              "#ed7953"
             ],
             [
              0.7777777777777778,
              "#fb9f3a"
             ],
             [
              0.8888888888888888,
              "#fdca26"
             ],
             [
              1,
              "#f0f921"
             ]
            ],
            "type": "heatmapgl"
           }
          ],
          "histogram": [
           {
            "marker": {
             "pattern": {
              "fillmode": "overlay",
              "size": 10,
              "solidity": 0.2
             }
            },
            "type": "histogram"
           }
          ],
          "histogram2d": [
           {
            "colorbar": {
             "outlinewidth": 0,
             "ticks": ""
            },
            "colorscale": [
             [
              0,
              "#0d0887"
             ],
             [
              0.1111111111111111,
              "#46039f"
             ],
             [
              0.2222222222222222,
              "#7201a8"
             ],
             [
              0.3333333333333333,
              "#9c179e"
             ],
             [
              0.4444444444444444,
              "#bd3786"
             ],
             [
              0.5555555555555556,
              "#d8576b"
             ],
             [
              0.6666666666666666,
              "#ed7953"
             ],
             [
              0.7777777777777778,
              "#fb9f3a"
             ],
             [
              0.8888888888888888,
              "#fdca26"
             ],
             [
              1,
              "#f0f921"
             ]
            ],
            "type": "histogram2d"
           }
          ],
          "histogram2dcontour": [
           {
            "colorbar": {
             "outlinewidth": 0,
             "ticks": ""
            },
            "colorscale": [
             [
              0,
              "#0d0887"
             ],
             [
              0.1111111111111111,
              "#46039f"
             ],
             [
              0.2222222222222222,
              "#7201a8"
             ],
             [
              0.3333333333333333,
              "#9c179e"
             ],
             [
              0.4444444444444444,
              "#bd3786"
             ],
             [
              0.5555555555555556,
              "#d8576b"
             ],
             [
              0.6666666666666666,
              "#ed7953"
             ],
             [
              0.7777777777777778,
              "#fb9f3a"
             ],
             [
              0.8888888888888888,
              "#fdca26"
             ],
             [
              1,
              "#f0f921"
             ]
            ],
            "type": "histogram2dcontour"
           }
          ],
          "mesh3d": [
           {
            "colorbar": {
             "outlinewidth": 0,
             "ticks": ""
            },
            "type": "mesh3d"
           }
          ],
          "parcoords": [
           {
            "line": {
             "colorbar": {
              "outlinewidth": 0,
              "ticks": ""
             }
            },
            "type": "parcoords"
           }
          ],
          "pie": [
           {
            "automargin": true,
            "type": "pie"
           }
          ],
          "scatter": [
           {
            "marker": {
             "colorbar": {
              "outlinewidth": 0,
              "ticks": ""
             }
            },
            "type": "scatter"
           }
          ],
          "scatter3d": [
           {
            "line": {
             "colorbar": {
              "outlinewidth": 0,
              "ticks": ""
             }
            },
            "marker": {
             "colorbar": {
              "outlinewidth": 0,
              "ticks": ""
             }
            },
            "type": "scatter3d"
           }
          ],
          "scattercarpet": [
           {
            "marker": {
             "colorbar": {
              "outlinewidth": 0,
              "ticks": ""
             }
            },
            "type": "scattercarpet"
           }
          ],
          "scattergeo": [
           {
            "marker": {
             "colorbar": {
              "outlinewidth": 0,
              "ticks": ""
             }
            },
            "type": "scattergeo"
           }
          ],
          "scattergl": [
           {
            "marker": {
             "colorbar": {
              "outlinewidth": 0,
              "ticks": ""
             }
            },
            "type": "scattergl"
           }
          ],
          "scattermapbox": [
           {
            "marker": {
             "colorbar": {
              "outlinewidth": 0,
              "ticks": ""
             }
            },
            "type": "scattermapbox"
           }
          ],
          "scatterpolar": [
           {
            "marker": {
             "colorbar": {
              "outlinewidth": 0,
              "ticks": ""
             }
            },
            "type": "scatterpolar"
           }
          ],
          "scatterpolargl": [
           {
            "marker": {
             "colorbar": {
              "outlinewidth": 0,
              "ticks": ""
             }
            },
            "type": "scatterpolargl"
           }
          ],
          "scatterternary": [
           {
            "marker": {
             "colorbar": {
              "outlinewidth": 0,
              "ticks": ""
             }
            },
            "type": "scatterternary"
           }
          ],
          "surface": [
           {
            "colorbar": {
             "outlinewidth": 0,
             "ticks": ""
            },
            "colorscale": [
             [
              0,
              "#0d0887"
             ],
             [
              0.1111111111111111,
              "#46039f"
             ],
             [
              0.2222222222222222,
              "#7201a8"
             ],
             [
              0.3333333333333333,
              "#9c179e"
             ],
             [
              0.4444444444444444,
              "#bd3786"
             ],
             [
              0.5555555555555556,
              "#d8576b"
             ],
             [
              0.6666666666666666,
              "#ed7953"
             ],
             [
              0.7777777777777778,
              "#fb9f3a"
             ],
             [
              0.8888888888888888,
              "#fdca26"
             ],
             [
              1,
              "#f0f921"
             ]
            ],
            "type": "surface"
           }
          ],
          "table": [
           {
            "cells": {
             "fill": {
              "color": "#EBF0F8"
             },
             "line": {
              "color": "white"
             }
            },
            "header": {
             "fill": {
              "color": "#C8D4E3"
             },
             "line": {
              "color": "white"
             }
            },
            "type": "table"
           }
          ]
         },
         "layout": {
          "annotationdefaults": {
           "arrowcolor": "#2a3f5f",
           "arrowhead": 0,
           "arrowwidth": 1
          },
          "autotypenumbers": "strict",
          "coloraxis": {
           "colorbar": {
            "outlinewidth": 0,
            "ticks": ""
           }
          },
          "colorscale": {
           "diverging": [
            [
             0,
             "#8e0152"
            ],
            [
             0.1,
             "#c51b7d"
            ],
            [
             0.2,
             "#de77ae"
            ],
            [
             0.3,
             "#f1b6da"
            ],
            [
             0.4,
             "#fde0ef"
            ],
            [
             0.5,
             "#f7f7f7"
            ],
            [
             0.6,
             "#e6f5d0"
            ],
            [
             0.7,
             "#b8e186"
            ],
            [
             0.8,
             "#7fbc41"
            ],
            [
             0.9,
             "#4d9221"
            ],
            [
             1,
             "#276419"
            ]
           ],
           "sequential": [
            [
             0,
             "#0d0887"
            ],
            [
             0.1111111111111111,
             "#46039f"
            ],
            [
             0.2222222222222222,
             "#7201a8"
            ],
            [
             0.3333333333333333,
             "#9c179e"
            ],
            [
             0.4444444444444444,
             "#bd3786"
            ],
            [
             0.5555555555555556,
             "#d8576b"
            ],
            [
             0.6666666666666666,
             "#ed7953"
            ],
            [
             0.7777777777777778,
             "#fb9f3a"
            ],
            [
             0.8888888888888888,
             "#fdca26"
            ],
            [
             1,
             "#f0f921"
            ]
           ],
           "sequentialminus": [
            [
             0,
             "#0d0887"
            ],
            [
             0.1111111111111111,
             "#46039f"
            ],
            [
             0.2222222222222222,
             "#7201a8"
            ],
            [
             0.3333333333333333,
             "#9c179e"
            ],
            [
             0.4444444444444444,
             "#bd3786"
            ],
            [
             0.5555555555555556,
             "#d8576b"
            ],
            [
             0.6666666666666666,
             "#ed7953"
            ],
            [
             0.7777777777777778,
             "#fb9f3a"
            ],
            [
             0.8888888888888888,
             "#fdca26"
            ],
            [
             1,
             "#f0f921"
            ]
           ]
          },
          "colorway": [
           "#636efa",
           "#EF553B",
           "#00cc96",
           "#ab63fa",
           "#FFA15A",
           "#19d3f3",
           "#FF6692",
           "#B6E880",
           "#FF97FF",
           "#FECB52"
          ],
          "font": {
           "color": "#2a3f5f"
          },
          "geo": {
           "bgcolor": "white",
           "lakecolor": "white",
           "landcolor": "#E5ECF6",
           "showlakes": true,
           "showland": true,
           "subunitcolor": "white"
          },
          "hoverlabel": {
           "align": "left"
          },
          "hovermode": "closest",
          "mapbox": {
           "style": "light"
          },
          "paper_bgcolor": "white",
          "plot_bgcolor": "#E5ECF6",
          "polar": {
           "angularaxis": {
            "gridcolor": "white",
            "linecolor": "white",
            "ticks": ""
           },
           "bgcolor": "#E5ECF6",
           "radialaxis": {
            "gridcolor": "white",
            "linecolor": "white",
            "ticks": ""
           }
          },
          "scene": {
           "xaxis": {
            "backgroundcolor": "#E5ECF6",
            "gridcolor": "white",
            "gridwidth": 2,
            "linecolor": "white",
            "showbackground": true,
            "ticks": "",
            "zerolinecolor": "white"
           },
           "yaxis": {
            "backgroundcolor": "#E5ECF6",
            "gridcolor": "white",
            "gridwidth": 2,
            "linecolor": "white",
            "showbackground": true,
            "ticks": "",
            "zerolinecolor": "white"
           },
           "zaxis": {
            "backgroundcolor": "#E5ECF6",
            "gridcolor": "white",
            "gridwidth": 2,
            "linecolor": "white",
            "showbackground": true,
            "ticks": "",
            "zerolinecolor": "white"
           }
          },
          "shapedefaults": {
           "line": {
            "color": "#2a3f5f"
           }
          },
          "ternary": {
           "aaxis": {
            "gridcolor": "white",
            "linecolor": "white",
            "ticks": ""
           },
           "baxis": {
            "gridcolor": "white",
            "linecolor": "white",
            "ticks": ""
           },
           "bgcolor": "#E5ECF6",
           "caxis": {
            "gridcolor": "white",
            "linecolor": "white",
            "ticks": ""
           }
          },
          "title": {
           "x": 0.05
          },
          "xaxis": {
           "automargin": true,
           "gridcolor": "white",
           "linecolor": "white",
           "ticks": "",
           "title": {
            "standoff": 15
           },
           "zerolinecolor": "white",
           "zerolinewidth": 2
          },
          "yaxis": {
           "automargin": true,
           "gridcolor": "white",
           "linecolor": "white",
           "ticks": "",
           "title": {
            "standoff": 15
           },
           "zerolinecolor": "white",
           "zerolinewidth": 2
          }
         }
        },
        "title": {
         "text": "EUR"
        }
       }
      },
      "text/html": [
       "<div>                            <div id=\"2bdc187e-d92c-4b76-bcf9-99213927e51c\" class=\"plotly-graph-div\" style=\"height:525px; width:100%;\"></div>            <script type=\"text/javascript\">                require([\"plotly\"], function(Plotly) {                    window.PLOTLYENV=window.PLOTLYENV || {};                                    if (document.getElementById(\"2bdc187e-d92c-4b76-bcf9-99213927e51c\")) {                    Plotly.newPlot(                        \"2bdc187e-d92c-4b76-bcf9-99213927e51c\",                        [{\"boxpoints\":\"outliers\",\"jitter\":0.5,\"pointpos\":0,\"type\":\"box\",\"y\":[13.3,12.5,16.9,16.5,17.4,14.9,13.0,14.4,10.8,11.6,10.3,11.6,12.6,12.1,11.4,12.0,13.0,11.2,12.1,11.4,9.9,11.9,10.4,10.2,10.5,10.0,10.9,10.3,11.5,12.3,9.6,10.2,9.7,9.7,9.8,11.6,12.0,12.3,13.6,15.6,17.0,14.2,13.8,13.6,12.4,11.8,12.0,10.9,10.1,11.8,11.9,12.2,13.7,13.1,11.6,17.1,13.6,15.9,13.1,11.9,11.6,10.7,12.7,13.7,16.3,13.2,11.8,12.7,11.1,12.3,13.4,12.6,12.9,13.1,13.4,12.5,12.0,12.3,12.4,12.1,14.7,13.3,13.6,13.0,13.3,14.2,12.8,12.7,13.2,14.9,12.9,12.7,13.0,13.7,12.2,14.8,12.5,18.2,19.9,16.4,14.5,14.2,11.5,11.8,12.0,11.8,11.8,12.1,11.9,11.8,12.6,12.9,11.6,11.6,11.5,11.4,12.4,11.7,12.1,11.8,12.7,12.1,12.2,11.1,11.6,12.5,10.6,10.7,11.3,10.1,11.7,11.9,13.0,11.5,10.5,11.4,11.1,11.0,9.8,11.3,10.0,10.1,9.8,10.5,9.3,9.9,10.5,10.2,11.3,10.5,12.5,11.9,10.4,11.8,11.0,10.5,9.7,19.1,13.4,13.1,14.3,22.0,22.0,22.0,12.9,13.7,22.0,13.3,13.3,12.8,11.1,11.7,13.0,13.2,12.9,15.1,13.1,13.5,15.3,17.7,18.6,17.4,18.0,16.2,14.1,15.2,22.0,16.0,15.3,17.0,17.7,15.5,17.5,15.7,15.0,22.0,16.4,15.4,16.9,17.0,16.3,13.4,19.4,21.5,22.0,12.9,13.5,12.8,13.5,12.0,12.6,11.8,12.8,14.7,13.2,13.7,13.1,14.9,12.5,13.0,14.2,12.6,14.5,15.4,20.3,22.0,17.9,15.9,20.9,15.8,13.4,15.9,19.2,21.4,15.0,13.3,13.7,15.8,13.2,13.1,12.7,12.0,12.7,13.2,11.2,11.5,13.4,12.2,13.5,14.1,13.5,13.6,15.2,19.6,12.6,12.3,20.0,22.0,17.3,15.4,16.6,19.7,21.6,15.7,17.5,12.9,15.6,22.0,19.8,12.2,12.4,13.7,13.5,17.1,16.1,16.0,16.4,16.4,15.0,17.0,20.5,17.1,20.7,22.0,16.1,12.7,12.0,13.1,12.8,13.6,14.8,17.8,14.6,13.3,12.6,14.9,14.4,12.1,12.8,15.0,13.6,12.7,14.1,16.4,17.4,14.8,16.5,14.7,12.9,12.1,10.7,12.7,11.8,12.5,13.3,10.7,11.3,11.9,13.0,12.3,13.3,13.0,12.1,11.5,13.7,13.5,13.0,12.7,11.8,12.9,11.9,11.0,11.8,12.7,12.2,12.4,11.8,11.5,12.2,11.7,11.6,16.2,10.8,13.3,15.7,11.2,11.1,13.0,13.5,14.2,13.0,13.4,11.5,15.4,11.4,12.2,11.3,12.6,12.9,12.9,13.7,12.0,12.3,10.9,12.6,14.5,12.6,13.0,22.0,22.0,22.0,22.0,22.0,9.9,9.9,10.3,10.0,9.8,9.7,8.7,8.8,9.0,9.1,9.4,8.3,7.7,8.8,7.8,8.7,9.2,10.4,13.1,8.6,9.9,9.6,9.7,9.5,8.2,7.0,7.4,7.2,7.7,9.4,8.1,8.2,7.0,9.3,14.6,11.1,14.5,10.3,11.1,11.3,10.8,7.7,7.7,7.8,8.8,8.3,8.1,10.9,10.1,12.3,9.8,9.2,8.1,8.7,9.0,9.0,8.5,10.2,10.0,10.7,10.1,9.2,9.8,8.5,8.2,8.1,9.6,8.8,11.0,11.5,10.5,8.9,9.3,10.3,9.5,10.0,9.7,9.8,10.4,10.7,11.3,10.3,10.0,9.6,9.8,10.3,12.0,10.8,11.2,11.8,12.1,12.5,12.0,11.7,11.7,11.7,12.0,12.0,11.9,13.1,15.3,9.9,9.8,10.9,9.3,10.2,12.5,13.0,13.2,13.7,12.6,12.2,12.4,11.7,12.2,10.4,7.7,8.0,9.9,12.0,12.6,13.5,13.0,11.9,11.4,12.4,11.2,10.9,12.8,12.2,13.3,12.7,9.3]}],                        {\"hovermode\":\"closest\",\"template\":{\"data\":{\"bar\":[{\"error_x\":{\"color\":\"#2a3f5f\"},\"error_y\":{\"color\":\"#2a3f5f\"},\"marker\":{\"line\":{\"color\":\"#E5ECF6\",\"width\":0.5},\"pattern\":{\"fillmode\":\"overlay\",\"size\":10,\"solidity\":0.2}},\"type\":\"bar\"}],\"barpolar\":[{\"marker\":{\"line\":{\"color\":\"#E5ECF6\",\"width\":0.5},\"pattern\":{\"fillmode\":\"overlay\",\"size\":10,\"solidity\":0.2}},\"type\":\"barpolar\"}],\"carpet\":[{\"aaxis\":{\"endlinecolor\":\"#2a3f5f\",\"gridcolor\":\"white\",\"linecolor\":\"white\",\"minorgridcolor\":\"white\",\"startlinecolor\":\"#2a3f5f\"},\"baxis\":{\"endlinecolor\":\"#2a3f5f\",\"gridcolor\":\"white\",\"linecolor\":\"white\",\"minorgridcolor\":\"white\",\"startlinecolor\":\"#2a3f5f\"},\"type\":\"carpet\"}],\"choropleth\":[{\"colorbar\":{\"outlinewidth\":0,\"ticks\":\"\"},\"type\":\"choropleth\"}],\"contour\":[{\"colorbar\":{\"outlinewidth\":0,\"ticks\":\"\"},\"colorscale\":[[0.0,\"#0d0887\"],[0.1111111111111111,\"#46039f\"],[0.2222222222222222,\"#7201a8\"],[0.3333333333333333,\"#9c179e\"],[0.4444444444444444,\"#bd3786\"],[0.5555555555555556,\"#d8576b\"],[0.6666666666666666,\"#ed7953\"],[0.7777777777777778,\"#fb9f3a\"],[0.8888888888888888,\"#fdca26\"],[1.0,\"#f0f921\"]],\"type\":\"contour\"}],\"contourcarpet\":[{\"colorbar\":{\"outlinewidth\":0,\"ticks\":\"\"},\"type\":\"contourcarpet\"}],\"heatmap\":[{\"colorbar\":{\"outlinewidth\":0,\"ticks\":\"\"},\"colorscale\":[[0.0,\"#0d0887\"],[0.1111111111111111,\"#46039f\"],[0.2222222222222222,\"#7201a8\"],[0.3333333333333333,\"#9c179e\"],[0.4444444444444444,\"#bd3786\"],[0.5555555555555556,\"#d8576b\"],[0.6666666666666666,\"#ed7953\"],[0.7777777777777778,\"#fb9f3a\"],[0.8888888888888888,\"#fdca26\"],[1.0,\"#f0f921\"]],\"type\":\"heatmap\"}],\"heatmapgl\":[{\"colorbar\":{\"outlinewidth\":0,\"ticks\":\"\"},\"colorscale\":[[0.0,\"#0d0887\"],[0.1111111111111111,\"#46039f\"],[0.2222222222222222,\"#7201a8\"],[0.3333333333333333,\"#9c179e\"],[0.4444444444444444,\"#bd3786\"],[0.5555555555555556,\"#d8576b\"],[0.6666666666666666,\"#ed7953\"],[0.7777777777777778,\"#fb9f3a\"],[0.8888888888888888,\"#fdca26\"],[1.0,\"#f0f921\"]],\"type\":\"heatmapgl\"}],\"histogram\":[{\"marker\":{\"pattern\":{\"fillmode\":\"overlay\",\"size\":10,\"solidity\":0.2}},\"type\":\"histogram\"}],\"histogram2d\":[{\"colorbar\":{\"outlinewidth\":0,\"ticks\":\"\"},\"colorscale\":[[0.0,\"#0d0887\"],[0.1111111111111111,\"#46039f\"],[0.2222222222222222,\"#7201a8\"],[0.3333333333333333,\"#9c179e\"],[0.4444444444444444,\"#bd3786\"],[0.5555555555555556,\"#d8576b\"],[0.6666666666666666,\"#ed7953\"],[0.7777777777777778,\"#fb9f3a\"],[0.8888888888888888,\"#fdca26\"],[1.0,\"#f0f921\"]],\"type\":\"histogram2d\"}],\"histogram2dcontour\":[{\"colorbar\":{\"outlinewidth\":0,\"ticks\":\"\"},\"colorscale\":[[0.0,\"#0d0887\"],[0.1111111111111111,\"#46039f\"],[0.2222222222222222,\"#7201a8\"],[0.3333333333333333,\"#9c179e\"],[0.4444444444444444,\"#bd3786\"],[0.5555555555555556,\"#d8576b\"],[0.6666666666666666,\"#ed7953\"],[0.7777777777777778,\"#fb9f3a\"],[0.8888888888888888,\"#fdca26\"],[1.0,\"#f0f921\"]],\"type\":\"histogram2dcontour\"}],\"mesh3d\":[{\"colorbar\":{\"outlinewidth\":0,\"ticks\":\"\"},\"type\":\"mesh3d\"}],\"parcoords\":[{\"line\":{\"colorbar\":{\"outlinewidth\":0,\"ticks\":\"\"}},\"type\":\"parcoords\"}],\"pie\":[{\"automargin\":true,\"type\":\"pie\"}],\"scatter\":[{\"marker\":{\"colorbar\":{\"outlinewidth\":0,\"ticks\":\"\"}},\"type\":\"scatter\"}],\"scatter3d\":[{\"line\":{\"colorbar\":{\"outlinewidth\":0,\"ticks\":\"\"}},\"marker\":{\"colorbar\":{\"outlinewidth\":0,\"ticks\":\"\"}},\"type\":\"scatter3d\"}],\"scattercarpet\":[{\"marker\":{\"colorbar\":{\"outlinewidth\":0,\"ticks\":\"\"}},\"type\":\"scattercarpet\"}],\"scattergeo\":[{\"marker\":{\"colorbar\":{\"outlinewidth\":0,\"ticks\":\"\"}},\"type\":\"scattergeo\"}],\"scattergl\":[{\"marker\":{\"colorbar\":{\"outlinewidth\":0,\"ticks\":\"\"}},\"type\":\"scattergl\"}],\"scattermapbox\":[{\"marker\":{\"colorbar\":{\"outlinewidth\":0,\"ticks\":\"\"}},\"type\":\"scattermapbox\"}],\"scatterpolar\":[{\"marker\":{\"colorbar\":{\"outlinewidth\":0,\"ticks\":\"\"}},\"type\":\"scatterpolar\"}],\"scatterpolargl\":[{\"marker\":{\"colorbar\":{\"outlinewidth\":0,\"ticks\":\"\"}},\"type\":\"scatterpolargl\"}],\"scatterternary\":[{\"marker\":{\"colorbar\":{\"outlinewidth\":0,\"ticks\":\"\"}},\"type\":\"scatterternary\"}],\"surface\":[{\"colorbar\":{\"outlinewidth\":0,\"ticks\":\"\"},\"colorscale\":[[0.0,\"#0d0887\"],[0.1111111111111111,\"#46039f\"],[0.2222222222222222,\"#7201a8\"],[0.3333333333333333,\"#9c179e\"],[0.4444444444444444,\"#bd3786\"],[0.5555555555555556,\"#d8576b\"],[0.6666666666666666,\"#ed7953\"],[0.7777777777777778,\"#fb9f3a\"],[0.8888888888888888,\"#fdca26\"],[1.0,\"#f0f921\"]],\"type\":\"surface\"}],\"table\":[{\"cells\":{\"fill\":{\"color\":\"#EBF0F8\"},\"line\":{\"color\":\"white\"}},\"header\":{\"fill\":{\"color\":\"#C8D4E3\"},\"line\":{\"color\":\"white\"}},\"type\":\"table\"}]},\"layout\":{\"annotationdefaults\":{\"arrowcolor\":\"#2a3f5f\",\"arrowhead\":0,\"arrowwidth\":1},\"autotypenumbers\":\"strict\",\"coloraxis\":{\"colorbar\":{\"outlinewidth\":0,\"ticks\":\"\"}},\"colorscale\":{\"diverging\":[[0,\"#8e0152\"],[0.1,\"#c51b7d\"],[0.2,\"#de77ae\"],[0.3,\"#f1b6da\"],[0.4,\"#fde0ef\"],[0.5,\"#f7f7f7\"],[0.6,\"#e6f5d0\"],[0.7,\"#b8e186\"],[0.8,\"#7fbc41\"],[0.9,\"#4d9221\"],[1,\"#276419\"]],\"sequential\":[[0.0,\"#0d0887\"],[0.1111111111111111,\"#46039f\"],[0.2222222222222222,\"#7201a8\"],[0.3333333333333333,\"#9c179e\"],[0.4444444444444444,\"#bd3786\"],[0.5555555555555556,\"#d8576b\"],[0.6666666666666666,\"#ed7953\"],[0.7777777777777778,\"#fb9f3a\"],[0.8888888888888888,\"#fdca26\"],[1.0,\"#f0f921\"]],\"sequentialminus\":[[0.0,\"#0d0887\"],[0.1111111111111111,\"#46039f\"],[0.2222222222222222,\"#7201a8\"],[0.3333333333333333,\"#9c179e\"],[0.4444444444444444,\"#bd3786\"],[0.5555555555555556,\"#d8576b\"],[0.6666666666666666,\"#ed7953\"],[0.7777777777777778,\"#fb9f3a\"],[0.8888888888888888,\"#fdca26\"],[1.0,\"#f0f921\"]]},\"colorway\":[\"#636efa\",\"#EF553B\",\"#00cc96\",\"#ab63fa\",\"#FFA15A\",\"#19d3f3\",\"#FF6692\",\"#B6E880\",\"#FF97FF\",\"#FECB52\"],\"font\":{\"color\":\"#2a3f5f\"},\"geo\":{\"bgcolor\":\"white\",\"lakecolor\":\"white\",\"landcolor\":\"#E5ECF6\",\"showlakes\":true,\"showland\":true,\"subunitcolor\":\"white\"},\"hoverlabel\":{\"align\":\"left\"},\"hovermode\":\"closest\",\"mapbox\":{\"style\":\"light\"},\"paper_bgcolor\":\"white\",\"plot_bgcolor\":\"#E5ECF6\",\"polar\":{\"angularaxis\":{\"gridcolor\":\"white\",\"linecolor\":\"white\",\"ticks\":\"\"},\"bgcolor\":\"#E5ECF6\",\"radialaxis\":{\"gridcolor\":\"white\",\"linecolor\":\"white\",\"ticks\":\"\"}},\"scene\":{\"xaxis\":{\"backgroundcolor\":\"#E5ECF6\",\"gridcolor\":\"white\",\"gridwidth\":2,\"linecolor\":\"white\",\"showbackground\":true,\"ticks\":\"\",\"zerolinecolor\":\"white\"},\"yaxis\":{\"backgroundcolor\":\"#E5ECF6\",\"gridcolor\":\"white\",\"gridwidth\":2,\"linecolor\":\"white\",\"showbackground\":true,\"ticks\":\"\",\"zerolinecolor\":\"white\"},\"zaxis\":{\"backgroundcolor\":\"#E5ECF6\",\"gridcolor\":\"white\",\"gridwidth\":2,\"linecolor\":\"white\",\"showbackground\":true,\"ticks\":\"\",\"zerolinecolor\":\"white\"}},\"shapedefaults\":{\"line\":{\"color\":\"#2a3f5f\"}},\"ternary\":{\"aaxis\":{\"gridcolor\":\"white\",\"linecolor\":\"white\",\"ticks\":\"\"},\"baxis\":{\"gridcolor\":\"white\",\"linecolor\":\"white\",\"ticks\":\"\"},\"bgcolor\":\"#E5ECF6\",\"caxis\":{\"gridcolor\":\"white\",\"linecolor\":\"white\",\"ticks\":\"\"}},\"title\":{\"x\":0.05},\"xaxis\":{\"automargin\":true,\"gridcolor\":\"white\",\"linecolor\":\"white\",\"ticks\":\"\",\"title\":{\"standoff\":15},\"zerolinecolor\":\"white\",\"zerolinewidth\":2},\"yaxis\":{\"automargin\":true,\"gridcolor\":\"white\",\"linecolor\":\"white\",\"ticks\":\"\",\"title\":{\"standoff\":15},\"zerolinecolor\":\"white\",\"zerolinewidth\":2}}},\"title\":{\"text\":\"EUR\"}},                        {\"responsive\": true}                    ).then(function(){\n",
       "                            \n",
       "var gd = document.getElementById('2bdc187e-d92c-4b76-bcf9-99213927e51c');\n",
       "var x = new MutationObserver(function (mutations, observer) {{\n",
       "        var display = window.getComputedStyle(gd).display;\n",
       "        if (!display || display === 'none') {{\n",
       "            console.log([gd, 'removed!']);\n",
       "            Plotly.purge(gd);\n",
       "            observer.disconnect();\n",
       "        }}\n",
       "}});\n",
       "\n",
       "// Listen for the removal of the full notebook cells\n",
       "var notebookContainer = gd.closest('#notebook-container');\n",
       "if (notebookContainer) {{\n",
       "    x.observe(notebookContainer, {childList: true});\n",
       "}}\n",
       "\n",
       "// Listen for the clearing of the current output cell\n",
       "var outputEl = gd.closest('.output');\n",
       "if (outputEl) {{\n",
       "    x.observe(outputEl, {childList: true});\n",
       "}}\n",
       "\n",
       "                        })                };                });            </script>        </div>"
      ]
     },
     "metadata": {},
     "output_type": "display_data"
    }
   ],
   "source": [
    "data= [go.Box(y=df['EUR'], boxpoints='outliers', jitter=0.5, pointpos=0)]\n",
    "    \n",
    "layout = go.Layout(title = 'EUR', \n",
    "                   hovermode ='closest')\n",
    "\n",
    "fig = go.Figure(data=data, layout=layout)\n",
    "fig.show()"
   ]
  },
  {
   "cell_type": "code",
   "execution_count": null,
   "metadata": {},
   "outputs": [],
   "source": []
  },
  {
   "cell_type": "code",
   "execution_count": null,
   "metadata": {},
   "outputs": [],
   "source": []
  }
 ],
 "metadata": {
  "kernelspec": {
   "display_name": "Python 3",
   "language": "python",
   "name": "python3"
  },
  "language_info": {
   "codemirror_mode": {
    "name": "ipython",
    "version": 3
   },
   "file_extension": ".py",
   "mimetype": "text/x-python",
   "name": "python",
   "nbconvert_exporter": "python",
   "pygments_lexer": "ipython3",
   "version": "3.7.6"
  }
 },
 "nbformat": 4,
 "nbformat_minor": 4
}
